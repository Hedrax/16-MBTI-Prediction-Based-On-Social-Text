{
  "cells": [
    {
      "cell_type": "code",
      "execution_count": null,
      "metadata": {
        "colab": {
          "base_uri": "https://localhost:8080/"
        },
        "id": "Sn9V5m4ztTU-",
        "outputId": "ec1212e2-8097-4977-b776-d490ffc95037"
      },
      "outputs": [
        {
          "name": "stdout",
          "output_type": "stream",
          "text": [
            "Requirement already satisfied: kaggle in /usr/local/lib/python3.10/dist-packages (1.5.16)\n",
            "Requirement already satisfied: six>=1.10 in /usr/local/lib/python3.10/dist-packages (from kaggle) (1.16.0)\n",
            "Requirement already satisfied: certifi in /usr/local/lib/python3.10/dist-packages (from kaggle) (2023.11.17)\n",
            "Requirement already satisfied: python-dateutil in /usr/local/lib/python3.10/dist-packages (from kaggle) (2.8.2)\n",
            "Requirement already satisfied: requests in /usr/local/lib/python3.10/dist-packages (from kaggle) (2.31.0)\n",
            "Requirement already satisfied: tqdm in /usr/local/lib/python3.10/dist-packages (from kaggle) (4.66.1)\n",
            "Requirement already satisfied: python-slugify in /usr/local/lib/python3.10/dist-packages (from kaggle) (8.0.1)\n",
            "Requirement already satisfied: urllib3 in /usr/local/lib/python3.10/dist-packages (from kaggle) (2.0.7)\n",
            "Requirement already satisfied: bleach in /usr/local/lib/python3.10/dist-packages (from kaggle) (6.1.0)\n",
            "Requirement already satisfied: webencodings in /usr/local/lib/python3.10/dist-packages (from bleach->kaggle) (0.5.1)\n",
            "Requirement already satisfied: text-unidecode>=1.3 in /usr/local/lib/python3.10/dist-packages (from python-slugify->kaggle) (1.3)\n",
            "Requirement already satisfied: charset-normalizer<4,>=2 in /usr/local/lib/python3.10/dist-packages (from requests->kaggle) (3.3.2)\n",
            "Requirement already satisfied: idna<4,>=2.5 in /usr/local/lib/python3.10/dist-packages (from requests->kaggle) (3.6)\n"
          ]
        }
      ],
      "source": [
        "!pip install kaggle"
      ]
    },
    {
      "cell_type": "code",
      "execution_count": null,
      "metadata": {
        "colab": {
          "base_uri": "https://localhost:8080/"
        },
        "id": "4zik1vFJnH4N",
        "outputId": "6654d59c-2fd3-4ca9-de2b-0378c48d6836"
      },
      "outputs": [
        {
          "name": "stdout",
          "output_type": "stream",
          "text": [
            "Requirement already satisfied: pandas in /usr/local/lib/python3.10/dist-packages (1.5.3)\n",
            "Requirement already satisfied: python-dateutil>=2.8.1 in /usr/local/lib/python3.10/dist-packages (from pandas) (2.8.2)\n",
            "Requirement already satisfied: pytz>=2020.1 in /usr/local/lib/python3.10/dist-packages (from pandas) (2023.3.post1)\n",
            "Requirement already satisfied: numpy>=1.21.0 in /usr/local/lib/python3.10/dist-packages (from pandas) (1.23.5)\n",
            "Requirement already satisfied: six>=1.5 in /usr/local/lib/python3.10/dist-packages (from python-dateutil>=2.8.1->pandas) (1.16.0)\n"
          ]
        }
      ],
      "source": [
        "!pip install pandas"
      ]
    },
    {
      "cell_type": "code",
      "execution_count": null,
      "metadata": {
        "id": "VgP0Sj_unYRg"
      },
      "outputs": [],
      "source": [
        "# #LOCAL CODE FOR TRAINING\n",
        "# conda install -c conda-forge cudatoolkit=11.2 cudnn=8.1.0\n",
        "# # Anything above 2.10 is not supported on the GPU on Windows Native\n",
        "# python -m pip install \"tensorflow<2.11\"\n",
        "# # Verify the installation:\n",
        "# python -c \"import tensorflow as tf; print(tf.config.list_physical_devices('GPU'))\""
      ]
    },
    {
      "cell_type": "code",
      "execution_count": null,
      "metadata": {
        "colab": {
          "base_uri": "https://localhost:8080/",
          "height": 73
        },
        "id": "ogFEdoXvujPe",
        "outputId": "a52b792f-825f-4a4f-8c98-362c5efb4e60"
      },
      "outputs": [
        {
          "output_type": "display_data",
          "data": {
            "text/plain": [
              "<IPython.core.display.HTML object>"
            ],
            "text/html": [
              "\n",
              "     <input type=\"file\" id=\"files-587caa83-8a09-4164-9797-08785bcbfbb3\" name=\"files[]\" multiple disabled\n",
              "        style=\"border:none\" />\n",
              "     <output id=\"result-587caa83-8a09-4164-9797-08785bcbfbb3\">\n",
              "      Upload widget is only available when the cell has been executed in the\n",
              "      current browser session. Please rerun this cell to enable.\n",
              "      </output>\n",
              "      <script>// Copyright 2017 Google LLC\n",
              "//\n",
              "// Licensed under the Apache License, Version 2.0 (the \"License\");\n",
              "// you may not use this file except in compliance with the License.\n",
              "// You may obtain a copy of the License at\n",
              "//\n",
              "//      http://www.apache.org/licenses/LICENSE-2.0\n",
              "//\n",
              "// Unless required by applicable law or agreed to in writing, software\n",
              "// distributed under the License is distributed on an \"AS IS\" BASIS,\n",
              "// WITHOUT WARRANTIES OR CONDITIONS OF ANY KIND, either express or implied.\n",
              "// See the License for the specific language governing permissions and\n",
              "// limitations under the License.\n",
              "\n",
              "/**\n",
              " * @fileoverview Helpers for google.colab Python module.\n",
              " */\n",
              "(function(scope) {\n",
              "function span(text, styleAttributes = {}) {\n",
              "  const element = document.createElement('span');\n",
              "  element.textContent = text;\n",
              "  for (const key of Object.keys(styleAttributes)) {\n",
              "    element.style[key] = styleAttributes[key];\n",
              "  }\n",
              "  return element;\n",
              "}\n",
              "\n",
              "// Max number of bytes which will be uploaded at a time.\n",
              "const MAX_PAYLOAD_SIZE = 100 * 1024;\n",
              "\n",
              "function _uploadFiles(inputId, outputId) {\n",
              "  const steps = uploadFilesStep(inputId, outputId);\n",
              "  const outputElement = document.getElementById(outputId);\n",
              "  // Cache steps on the outputElement to make it available for the next call\n",
              "  // to uploadFilesContinue from Python.\n",
              "  outputElement.steps = steps;\n",
              "\n",
              "  return _uploadFilesContinue(outputId);\n",
              "}\n",
              "\n",
              "// This is roughly an async generator (not supported in the browser yet),\n",
              "// where there are multiple asynchronous steps and the Python side is going\n",
              "// to poll for completion of each step.\n",
              "// This uses a Promise to block the python side on completion of each step,\n",
              "// then passes the result of the previous step as the input to the next step.\n",
              "function _uploadFilesContinue(outputId) {\n",
              "  const outputElement = document.getElementById(outputId);\n",
              "  const steps = outputElement.steps;\n",
              "\n",
              "  const next = steps.next(outputElement.lastPromiseValue);\n",
              "  return Promise.resolve(next.value.promise).then((value) => {\n",
              "    // Cache the last promise value to make it available to the next\n",
              "    // step of the generator.\n",
              "    outputElement.lastPromiseValue = value;\n",
              "    return next.value.response;\n",
              "  });\n",
              "}\n",
              "\n",
              "/**\n",
              " * Generator function which is called between each async step of the upload\n",
              " * process.\n",
              " * @param {string} inputId Element ID of the input file picker element.\n",
              " * @param {string} outputId Element ID of the output display.\n",
              " * @return {!Iterable<!Object>} Iterable of next steps.\n",
              " */\n",
              "function* uploadFilesStep(inputId, outputId) {\n",
              "  const inputElement = document.getElementById(inputId);\n",
              "  inputElement.disabled = false;\n",
              "\n",
              "  const outputElement = document.getElementById(outputId);\n",
              "  outputElement.innerHTML = '';\n",
              "\n",
              "  const pickedPromise = new Promise((resolve) => {\n",
              "    inputElement.addEventListener('change', (e) => {\n",
              "      resolve(e.target.files);\n",
              "    });\n",
              "  });\n",
              "\n",
              "  const cancel = document.createElement('button');\n",
              "  inputElement.parentElement.appendChild(cancel);\n",
              "  cancel.textContent = 'Cancel upload';\n",
              "  const cancelPromise = new Promise((resolve) => {\n",
              "    cancel.onclick = () => {\n",
              "      resolve(null);\n",
              "    };\n",
              "  });\n",
              "\n",
              "  // Wait for the user to pick the files.\n",
              "  const files = yield {\n",
              "    promise: Promise.race([pickedPromise, cancelPromise]),\n",
              "    response: {\n",
              "      action: 'starting',\n",
              "    }\n",
              "  };\n",
              "\n",
              "  cancel.remove();\n",
              "\n",
              "  // Disable the input element since further picks are not allowed.\n",
              "  inputElement.disabled = true;\n",
              "\n",
              "  if (!files) {\n",
              "    return {\n",
              "      response: {\n",
              "        action: 'complete',\n",
              "      }\n",
              "    };\n",
              "  }\n",
              "\n",
              "  for (const file of files) {\n",
              "    const li = document.createElement('li');\n",
              "    li.append(span(file.name, {fontWeight: 'bold'}));\n",
              "    li.append(span(\n",
              "        `(${file.type || 'n/a'}) - ${file.size} bytes, ` +\n",
              "        `last modified: ${\n",
              "            file.lastModifiedDate ? file.lastModifiedDate.toLocaleDateString() :\n",
              "                                    'n/a'} - `));\n",
              "    const percent = span('0% done');\n",
              "    li.appendChild(percent);\n",
              "\n",
              "    outputElement.appendChild(li);\n",
              "\n",
              "    const fileDataPromise = new Promise((resolve) => {\n",
              "      const reader = new FileReader();\n",
              "      reader.onload = (e) => {\n",
              "        resolve(e.target.result);\n",
              "      };\n",
              "      reader.readAsArrayBuffer(file);\n",
              "    });\n",
              "    // Wait for the data to be ready.\n",
              "    let fileData = yield {\n",
              "      promise: fileDataPromise,\n",
              "      response: {\n",
              "        action: 'continue',\n",
              "      }\n",
              "    };\n",
              "\n",
              "    // Use a chunked sending to avoid message size limits. See b/62115660.\n",
              "    let position = 0;\n",
              "    do {\n",
              "      const length = Math.min(fileData.byteLength - position, MAX_PAYLOAD_SIZE);\n",
              "      const chunk = new Uint8Array(fileData, position, length);\n",
              "      position += length;\n",
              "\n",
              "      const base64 = btoa(String.fromCharCode.apply(null, chunk));\n",
              "      yield {\n",
              "        response: {\n",
              "          action: 'append',\n",
              "          file: file.name,\n",
              "          data: base64,\n",
              "        },\n",
              "      };\n",
              "\n",
              "      let percentDone = fileData.byteLength === 0 ?\n",
              "          100 :\n",
              "          Math.round((position / fileData.byteLength) * 100);\n",
              "      percent.textContent = `${percentDone}% done`;\n",
              "\n",
              "    } while (position < fileData.byteLength);\n",
              "  }\n",
              "\n",
              "  // All done.\n",
              "  yield {\n",
              "    response: {\n",
              "      action: 'complete',\n",
              "    }\n",
              "  };\n",
              "}\n",
              "\n",
              "scope.google = scope.google || {};\n",
              "scope.google.colab = scope.google.colab || {};\n",
              "scope.google.colab._files = {\n",
              "  _uploadFiles,\n",
              "  _uploadFilesContinue,\n",
              "};\n",
              "})(self);\n",
              "</script> "
            ]
          },
          "metadata": {}
        },
        {
          "output_type": "stream",
          "name": "stdout",
          "text": [
            "Saving kaggle.json to kaggle.json\n"
          ]
        }
      ],
      "source": [
        "#uploading my kaggle account api token\n",
        "from google.colab import files\n",
        "\n",
        "uploaded = files.upload()"
      ]
    },
    {
      "cell_type": "code",
      "execution_count": null,
      "metadata": {
        "id": "Om8ebZOuvzAa"
      },
      "outputs": [],
      "source": [
        "#moving the kaggle api token to another directory\n",
        "!mkdir -p ~/.kaggle\n",
        "!mv kaggle.json ~/.kaggle/\n",
        "!chmod 600 ~/.kaggle/kaggle.json"
      ]
    },
    {
      "cell_type": "code",
      "execution_count": null,
      "metadata": {
        "colab": {
          "base_uri": "https://localhost:8080/"
        },
        "id": "bzrDvRrrv-8H",
        "outputId": "a5e0eb77-5edd-458c-ee63-bb03669c69a7"
      },
      "outputs": [
        {
          "output_type": "stream",
          "name": "stdout",
          "text": [
            "Downloading mbti-personality-type-twitter-dataset.zip to /content\n",
            " 83% 27.0M/32.7M [00:00<00:00, 67.1MB/s]\n",
            "100% 32.7M/32.7M [00:00<00:00, 67.9MB/s]\n",
            "Downloading mbti-personality-types-500-dataset.zip to /content\n",
            " 94% 116M/123M [00:01<00:00, 94.7MB/s]\n",
            "100% 123M/123M [00:01<00:00, 86.4MB/s]\n",
            "Downloading mbti-type.zip to /content\n",
            " 94% 23.0M/24.4M [00:00<00:00, 83.8MB/s]\n",
            "100% 24.4M/24.4M [00:00<00:00, 75.7MB/s]\n"
          ]
        }
      ],
      "source": [
        "#our base 3 datasets\n",
        "!kaggle datasets download -d \"mazlumi/mbti-personality-type-twitter-dataset\"\n",
        "!kaggle datasets download -d \"zeyadkhalid/mbti-personality-types-500-dataset\"\n",
        "!kaggle datasets download -d \"datasnaek/mbti-type\"\n",
        "# !kaggle datasets download -d leadbest/googlenewsvectorsnegative300"
      ]
    },
    {
      "cell_type": "code",
      "execution_count": null,
      "metadata": {
        "id": "c30kYbNmyiB-"
      },
      "outputs": [],
      "source": [
        "import zipfile\n",
        "zip_ref = zipfile.ZipFile('mbti-personality-type-twitter-dataset.zip', 'r')\n",
        "zip_ref.extractall('/content')\n",
        "zip_ref.close()\n",
        "\n",
        "zip_ref = zipfile.ZipFile('mbti-personality-types-500-dataset.zip', 'r')\n",
        "zip_ref.extractall('/content')\n",
        "zip_ref.close()\n",
        "\n",
        "zip_ref = zipfile.ZipFile('mbti-type.zip', 'r')\n",
        "zip_ref.extractall('/content')\n",
        "zip_ref.close()\n",
        "# zip_ref = zipfile.ZipFile('/content/googlenewsvectorsnegative300.zip', 'r')\n",
        "# zip_ref.extractall('/content')\n",
        "# zip_ref.close()"
      ]
    },
    {
      "cell_type": "code",
      "execution_count": null,
      "metadata": {
        "colab": {
          "base_uri": "https://localhost:8080/"
        },
        "id": "PRG554JU0Wu2",
        "outputId": "5739a683-edb0-40d6-c443-b26bb25e6dc2"
      },
      "outputs": [
        {
          "name": "stdout",
          "output_type": "stream",
          "text": [
            " GoogleNews-vectors-negative300.bin      mbti-personality-types-500-dataset.zip\n",
            " GoogleNews-vectors-negative300.bin.gz   mbti-personality-type-twitter-dataset.zip\n",
            " googlenewsvectorsnegative300.zip        mbti-type.zip\n",
            " mbti_1.csv                              \u001b[0m\u001b[01;34msample_data\u001b[0m/\n",
            "'MBTI 500.csv'                           twitter_MBTI.csv\n"
          ]
        }
      ],
      "source": [
        "ls"
      ]
    },
    {
      "cell_type": "code",
      "execution_count": null,
      "metadata": {
        "id": "6DdRQrolsuca"
      },
      "outputs": [],
      "source": [
        "import pandas as pd"
      ]
    },
    {
      "cell_type": "code",
      "execution_count": null,
      "metadata": {
        "colab": {
          "base_uri": "https://localhost:8080/"
        },
        "id": "JlQ2eym7z40V",
        "outputId": "a99ea9d1-0713-44b5-d332-561fc2931d8d"
      },
      "outputs": [
        {
          "output_type": "stream",
          "name": "stdout",
          "text": [
            "DataFrame 1:\n",
            "   Unnamed: 0                                               text label\n",
            "0           0  @Pericles216 @HierBeforeTheAC @Sachinettiyil T...  intj\n",
            "1           1  @Hispanthicckk Being you makes you look cute||...  intj\n",
            "2           2  @Alshymi Les balles sont réelles et sont tirée...  intj\n",
            "3           3  I'm like entp but idiotic|||Hey boy, do you wa...  intj\n",
            "4           4  @kaeshurr1 Give it to @ZargarShanif ... He has...  intj\n",
            "\n",
            "DataFrame 2:\n",
            "   type                                              posts\n",
            "0  INFJ  'http://www.youtube.com/watch?v=qsXHcwe3krw|||...\n",
            "1  ENTP  'I'm finding the lack of me in these posts ver...\n",
            "2  INTP  'Good one  _____   https://www.youtube.com/wat...\n",
            "3  INTJ  'Dear INTP,   I enjoyed our conversation the o...\n",
            "4  ENTJ  'You're fired.|||That's another silly misconce...\n",
            "\n",
            "DataFrame 3:\n",
            "                                               posts  type\n",
            "0  know intj tool use interaction people excuse a...  INTJ\n",
            "1  rap music ehh opp yeah know valid well know fa...  INTJ\n",
            "2  preferably p hd low except wew lad video p min...  INTJ\n",
            "3  drink like wish could drink red wine give head...  INTJ\n",
            "4  space program ah bad deal meing freelance max ...  INTJ\n"
          ]
        }
      ],
      "source": [
        "#loading from colab\n",
        "# Assuming the CSV files are named file1.csv, file2.csv, and file3.csv\n",
        "file1_path = '/content/twitter_MBTI.csv'\n",
        "file2_path = '/content/mbti_1.csv'\n",
        "file3_path = '/content/MBTI 500.csv'\n",
        "\n",
        "# Read the CSV files into pandas dataframes\n",
        "df1 = pd.read_csv(file1_path)\n",
        "df2 = pd.read_csv(file2_path)\n",
        "df3 = pd.read_csv(file3_path)\n",
        "\n",
        "# Now, you can use df1, df2, and df3 as your dataframes\n",
        "# For example, you can print the first few rows of each dataframe\n",
        "print(\"DataFrame 1:\")\n",
        "print(df1.head())\n",
        "\n",
        "print(\"\\nDataFrame 2:\")\n",
        "print(df2.head())\n",
        "\n",
        "print(\"\\nDataFrame 3:\")\n",
        "print(df3.head())"
      ]
    },
    {
      "cell_type": "code",
      "execution_count": null,
      "metadata": {
        "id": "1dw60Sn1s1KE"
      },
      "outputs": [],
      "source": [
        "#loading from LOCAL\n",
        "# # Assuming the CSV files are named file1.csv, file2.csv, and file3.csv\n",
        "# file1_path = './twitter_MBTI.csv'\n",
        "# file2_path = './mbti_1.csv'\n",
        "# file3_path = './MBTI 500.csv'\n",
        "\n",
        "# # Read the CSV files into pandas dataframes\n",
        "# df1 = pd.read_csv(file1_path)\n",
        "# df2 = pd.read_csv(file2_path)\n",
        "# df3 = pd.read_csv(file3_path)\n",
        "\n",
        "# # Now, you can use df1, df2, and df3 as your dataframes\n",
        "# # For example, you can print the first few rows of each dataframe\n",
        "# print(\"DataFrame 1:\")\n",
        "# print(df1.head())\n",
        "\n",
        "# print(\"\\nDataFrame 2:\")\n",
        "# print(df2.head())\n",
        "\n",
        "# print(\"\\nDataFrame 3:\")\n",
        "# print(df3.head())"
      ]
    },
    {
      "cell_type": "code",
      "execution_count": null,
      "metadata": {
        "id": "pgM3o-Kk29Py"
      },
      "outputs": [],
      "source": [
        "# Array of DataFrame columns\n",
        "array_of_texts = [df1['text'], df2['posts'], df3['posts']]  # Add more columns as needed\n",
        "array_of_labels = [df1['label'], df2['type'], df3['type']]\n",
        "# Create a new DataFrame and append the columns\n",
        "texts_df = pd.concat(array_of_texts, axis=0)\n",
        "labels_df = pd.concat(array_of_labels, axis=0)\n",
        "\n",
        "df = pd.concat([texts_df, labels_df], axis=1)"
      ]
    },
    {
      "cell_type": "code",
      "execution_count": null,
      "metadata": {
        "colab": {
          "base_uri": "https://localhost:8080/"
        },
        "id": "Mab6o9lG9LVS",
        "outputId": "fc48231a-8e8b-4531-c71a-c942180a607a"
      },
      "outputs": [
        {
          "output_type": "stream",
          "name": "stdout",
          "text": [
            "7811\n",
            "8675\n",
            "106067\n",
            "122553  =  122553\n"
          ]
        }
      ],
      "source": [
        "print(len(df1))\n",
        "print(len(df2))\n",
        "print(len(df3))\n",
        "print(len(df2)+ len(df3)+ len(df1), \" = \", len(df))"
      ]
    },
    {
      "cell_type": "code",
      "execution_count": null,
      "metadata": {
        "id": "yLlotUln9RFq"
      },
      "outputs": [],
      "source": [
        "new_column_names = {0: 'Post', 1: 'Label'}\n",
        "df.rename(columns=new_column_names, inplace=True)"
      ]
    },
    {
      "cell_type": "code",
      "execution_count": null,
      "metadata": {
        "colab": {
          "base_uri": "https://localhost:8080/",
          "height": 423
        },
        "id": "0iySoZ_K9H_N",
        "outputId": "7f167d13-57dc-4174-9354-4df906e6dfcd"
      },
      "outputs": [
        {
          "output_type": "execute_result",
          "data": {
            "text/plain": [
              "                                                     Post Label\n",
              "0       @Pericles216 @HierBeforeTheAC @Sachinettiyil T...  intj\n",
              "1       @Hispanthicckk Being you makes you look cute||...  intj\n",
              "2       @Alshymi Les balles sont réelles et sont tirée...  intj\n",
              "3       I'm like entp but idiotic|||Hey boy, do you wa...  intj\n",
              "4       @kaeshurr1 Give it to @ZargarShanif ... He has...  intj\n",
              "...                                                   ...   ...\n",
              "106062  stay frustrate world life want take long nap w...  INFP\n",
              "106063  fizzle around time mention sure mistake thing ...  INFP\n",
              "106064  schedule modify hey w intp strong wing underst...  INFP\n",
              "106065  enfj since january busy schedule able spend li...  INFP\n",
              "106066  feel like men good problem tell parent want te...  INFP\n",
              "\n",
              "[122553 rows x 2 columns]"
            ],
            "text/html": [
              "\n",
              "  <div id=\"df-e86eda28-55d1-4da3-9c4a-b16416b8a64b\" class=\"colab-df-container\">\n",
              "    <div>\n",
              "<style scoped>\n",
              "    .dataframe tbody tr th:only-of-type {\n",
              "        vertical-align: middle;\n",
              "    }\n",
              "\n",
              "    .dataframe tbody tr th {\n",
              "        vertical-align: top;\n",
              "    }\n",
              "\n",
              "    .dataframe thead th {\n",
              "        text-align: right;\n",
              "    }\n",
              "</style>\n",
              "<table border=\"1\" class=\"dataframe\">\n",
              "  <thead>\n",
              "    <tr style=\"text-align: right;\">\n",
              "      <th></th>\n",
              "      <th>Post</th>\n",
              "      <th>Label</th>\n",
              "    </tr>\n",
              "  </thead>\n",
              "  <tbody>\n",
              "    <tr>\n",
              "      <th>0</th>\n",
              "      <td>@Pericles216 @HierBeforeTheAC @Sachinettiyil T...</td>\n",
              "      <td>intj</td>\n",
              "    </tr>\n",
              "    <tr>\n",
              "      <th>1</th>\n",
              "      <td>@Hispanthicckk Being you makes you look cute||...</td>\n",
              "      <td>intj</td>\n",
              "    </tr>\n",
              "    <tr>\n",
              "      <th>2</th>\n",
              "      <td>@Alshymi Les balles sont réelles et sont tirée...</td>\n",
              "      <td>intj</td>\n",
              "    </tr>\n",
              "    <tr>\n",
              "      <th>3</th>\n",
              "      <td>I'm like entp but idiotic|||Hey boy, do you wa...</td>\n",
              "      <td>intj</td>\n",
              "    </tr>\n",
              "    <tr>\n",
              "      <th>4</th>\n",
              "      <td>@kaeshurr1 Give it to @ZargarShanif ... He has...</td>\n",
              "      <td>intj</td>\n",
              "    </tr>\n",
              "    <tr>\n",
              "      <th>...</th>\n",
              "      <td>...</td>\n",
              "      <td>...</td>\n",
              "    </tr>\n",
              "    <tr>\n",
              "      <th>106062</th>\n",
              "      <td>stay frustrate world life want take long nap w...</td>\n",
              "      <td>INFP</td>\n",
              "    </tr>\n",
              "    <tr>\n",
              "      <th>106063</th>\n",
              "      <td>fizzle around time mention sure mistake thing ...</td>\n",
              "      <td>INFP</td>\n",
              "    </tr>\n",
              "    <tr>\n",
              "      <th>106064</th>\n",
              "      <td>schedule modify hey w intp strong wing underst...</td>\n",
              "      <td>INFP</td>\n",
              "    </tr>\n",
              "    <tr>\n",
              "      <th>106065</th>\n",
              "      <td>enfj since january busy schedule able spend li...</td>\n",
              "      <td>INFP</td>\n",
              "    </tr>\n",
              "    <tr>\n",
              "      <th>106066</th>\n",
              "      <td>feel like men good problem tell parent want te...</td>\n",
              "      <td>INFP</td>\n",
              "    </tr>\n",
              "  </tbody>\n",
              "</table>\n",
              "<p>122553 rows × 2 columns</p>\n",
              "</div>\n",
              "    <div class=\"colab-df-buttons\">\n",
              "\n",
              "  <div class=\"colab-df-container\">\n",
              "    <button class=\"colab-df-convert\" onclick=\"convertToInteractive('df-e86eda28-55d1-4da3-9c4a-b16416b8a64b')\"\n",
              "            title=\"Convert this dataframe to an interactive table.\"\n",
              "            style=\"display:none;\">\n",
              "\n",
              "  <svg xmlns=\"http://www.w3.org/2000/svg\" height=\"24px\" viewBox=\"0 -960 960 960\">\n",
              "    <path d=\"M120-120v-720h720v720H120Zm60-500h600v-160H180v160Zm220 220h160v-160H400v160Zm0 220h160v-160H400v160ZM180-400h160v-160H180v160Zm440 0h160v-160H620v160ZM180-180h160v-160H180v160Zm440 0h160v-160H620v160Z\"/>\n",
              "  </svg>\n",
              "    </button>\n",
              "\n",
              "  <style>\n",
              "    .colab-df-container {\n",
              "      display:flex;\n",
              "      gap: 12px;\n",
              "    }\n",
              "\n",
              "    .colab-df-convert {\n",
              "      background-color: #E8F0FE;\n",
              "      border: none;\n",
              "      border-radius: 50%;\n",
              "      cursor: pointer;\n",
              "      display: none;\n",
              "      fill: #1967D2;\n",
              "      height: 32px;\n",
              "      padding: 0 0 0 0;\n",
              "      width: 32px;\n",
              "    }\n",
              "\n",
              "    .colab-df-convert:hover {\n",
              "      background-color: #E2EBFA;\n",
              "      box-shadow: 0px 1px 2px rgba(60, 64, 67, 0.3), 0px 1px 3px 1px rgba(60, 64, 67, 0.15);\n",
              "      fill: #174EA6;\n",
              "    }\n",
              "\n",
              "    .colab-df-buttons div {\n",
              "      margin-bottom: 4px;\n",
              "    }\n",
              "\n",
              "    [theme=dark] .colab-df-convert {\n",
              "      background-color: #3B4455;\n",
              "      fill: #D2E3FC;\n",
              "    }\n",
              "\n",
              "    [theme=dark] .colab-df-convert:hover {\n",
              "      background-color: #434B5C;\n",
              "      box-shadow: 0px 1px 3px 1px rgba(0, 0, 0, 0.15);\n",
              "      filter: drop-shadow(0px 1px 2px rgba(0, 0, 0, 0.3));\n",
              "      fill: #FFFFFF;\n",
              "    }\n",
              "  </style>\n",
              "\n",
              "    <script>\n",
              "      const buttonEl =\n",
              "        document.querySelector('#df-e86eda28-55d1-4da3-9c4a-b16416b8a64b button.colab-df-convert');\n",
              "      buttonEl.style.display =\n",
              "        google.colab.kernel.accessAllowed ? 'block' : 'none';\n",
              "\n",
              "      async function convertToInteractive(key) {\n",
              "        const element = document.querySelector('#df-e86eda28-55d1-4da3-9c4a-b16416b8a64b');\n",
              "        const dataTable =\n",
              "          await google.colab.kernel.invokeFunction('convertToInteractive',\n",
              "                                                    [key], {});\n",
              "        if (!dataTable) return;\n",
              "\n",
              "        const docLinkHtml = 'Like what you see? Visit the ' +\n",
              "          '<a target=\"_blank\" href=https://colab.research.google.com/notebooks/data_table.ipynb>data table notebook</a>'\n",
              "          + ' to learn more about interactive tables.';\n",
              "        element.innerHTML = '';\n",
              "        dataTable['output_type'] = 'display_data';\n",
              "        await google.colab.output.renderOutput(dataTable, element);\n",
              "        const docLink = document.createElement('div');\n",
              "        docLink.innerHTML = docLinkHtml;\n",
              "        element.appendChild(docLink);\n",
              "      }\n",
              "    </script>\n",
              "  </div>\n",
              "\n",
              "\n",
              "<div id=\"df-ff98528e-88b9-4e25-9602-5de479eaed26\">\n",
              "  <button class=\"colab-df-quickchart\" onclick=\"quickchart('df-ff98528e-88b9-4e25-9602-5de479eaed26')\"\n",
              "            title=\"Suggest charts\"\n",
              "            style=\"display:none;\">\n",
              "\n",
              "<svg xmlns=\"http://www.w3.org/2000/svg\" height=\"24px\"viewBox=\"0 0 24 24\"\n",
              "     width=\"24px\">\n",
              "    <g>\n",
              "        <path d=\"M19 3H5c-1.1 0-2 .9-2 2v14c0 1.1.9 2 2 2h14c1.1 0 2-.9 2-2V5c0-1.1-.9-2-2-2zM9 17H7v-7h2v7zm4 0h-2V7h2v10zm4 0h-2v-4h2v4z\"/>\n",
              "    </g>\n",
              "</svg>\n",
              "  </button>\n",
              "\n",
              "<style>\n",
              "  .colab-df-quickchart {\n",
              "      --bg-color: #E8F0FE;\n",
              "      --fill-color: #1967D2;\n",
              "      --hover-bg-color: #E2EBFA;\n",
              "      --hover-fill-color: #174EA6;\n",
              "      --disabled-fill-color: #AAA;\n",
              "      --disabled-bg-color: #DDD;\n",
              "  }\n",
              "\n",
              "  [theme=dark] .colab-df-quickchart {\n",
              "      --bg-color: #3B4455;\n",
              "      --fill-color: #D2E3FC;\n",
              "      --hover-bg-color: #434B5C;\n",
              "      --hover-fill-color: #FFFFFF;\n",
              "      --disabled-bg-color: #3B4455;\n",
              "      --disabled-fill-color: #666;\n",
              "  }\n",
              "\n",
              "  .colab-df-quickchart {\n",
              "    background-color: var(--bg-color);\n",
              "    border: none;\n",
              "    border-radius: 50%;\n",
              "    cursor: pointer;\n",
              "    display: none;\n",
              "    fill: var(--fill-color);\n",
              "    height: 32px;\n",
              "    padding: 0;\n",
              "    width: 32px;\n",
              "  }\n",
              "\n",
              "  .colab-df-quickchart:hover {\n",
              "    background-color: var(--hover-bg-color);\n",
              "    box-shadow: 0 1px 2px rgba(60, 64, 67, 0.3), 0 1px 3px 1px rgba(60, 64, 67, 0.15);\n",
              "    fill: var(--button-hover-fill-color);\n",
              "  }\n",
              "\n",
              "  .colab-df-quickchart-complete:disabled,\n",
              "  .colab-df-quickchart-complete:disabled:hover {\n",
              "    background-color: var(--disabled-bg-color);\n",
              "    fill: var(--disabled-fill-color);\n",
              "    box-shadow: none;\n",
              "  }\n",
              "\n",
              "  .colab-df-spinner {\n",
              "    border: 2px solid var(--fill-color);\n",
              "    border-color: transparent;\n",
              "    border-bottom-color: var(--fill-color);\n",
              "    animation:\n",
              "      spin 1s steps(1) infinite;\n",
              "  }\n",
              "\n",
              "  @keyframes spin {\n",
              "    0% {\n",
              "      border-color: transparent;\n",
              "      border-bottom-color: var(--fill-color);\n",
              "      border-left-color: var(--fill-color);\n",
              "    }\n",
              "    20% {\n",
              "      border-color: transparent;\n",
              "      border-left-color: var(--fill-color);\n",
              "      border-top-color: var(--fill-color);\n",
              "    }\n",
              "    30% {\n",
              "      border-color: transparent;\n",
              "      border-left-color: var(--fill-color);\n",
              "      border-top-color: var(--fill-color);\n",
              "      border-right-color: var(--fill-color);\n",
              "    }\n",
              "    40% {\n",
              "      border-color: transparent;\n",
              "      border-right-color: var(--fill-color);\n",
              "      border-top-color: var(--fill-color);\n",
              "    }\n",
              "    60% {\n",
              "      border-color: transparent;\n",
              "      border-right-color: var(--fill-color);\n",
              "    }\n",
              "    80% {\n",
              "      border-color: transparent;\n",
              "      border-right-color: var(--fill-color);\n",
              "      border-bottom-color: var(--fill-color);\n",
              "    }\n",
              "    90% {\n",
              "      border-color: transparent;\n",
              "      border-bottom-color: var(--fill-color);\n",
              "    }\n",
              "  }\n",
              "</style>\n",
              "\n",
              "  <script>\n",
              "    async function quickchart(key) {\n",
              "      const quickchartButtonEl =\n",
              "        document.querySelector('#' + key + ' button');\n",
              "      quickchartButtonEl.disabled = true;  // To prevent multiple clicks.\n",
              "      quickchartButtonEl.classList.add('colab-df-spinner');\n",
              "      try {\n",
              "        const charts = await google.colab.kernel.invokeFunction(\n",
              "            'suggestCharts', [key], {});\n",
              "      } catch (error) {\n",
              "        console.error('Error during call to suggestCharts:', error);\n",
              "      }\n",
              "      quickchartButtonEl.classList.remove('colab-df-spinner');\n",
              "      quickchartButtonEl.classList.add('colab-df-quickchart-complete');\n",
              "    }\n",
              "    (() => {\n",
              "      let quickchartButtonEl =\n",
              "        document.querySelector('#df-ff98528e-88b9-4e25-9602-5de479eaed26 button');\n",
              "      quickchartButtonEl.style.display =\n",
              "        google.colab.kernel.accessAllowed ? 'block' : 'none';\n",
              "    })();\n",
              "  </script>\n",
              "</div>\n",
              "    </div>\n",
              "  </div>\n"
            ]
          },
          "metadata": {},
          "execution_count": 10
        }
      ],
      "source": [
        "df"
      ]
    },
    {
      "cell_type": "markdown",
      "metadata": {
        "id": "IVHLz97-_CbS"
      },
      "source": [
        "#Pre-Processing the data removing outliers"
      ]
    },
    {
      "cell_type": "code",
      "execution_count": null,
      "metadata": {
        "id": "VpvF0E_Xictn"
      },
      "outputs": [],
      "source": [
        "#removing duplicates from the merge\n",
        "df = df.drop_duplicates()"
      ]
    },
    {
      "cell_type": "code",
      "execution_count": null,
      "metadata": {
        "colab": {
          "base_uri": "https://localhost:8080/"
        },
        "id": "FZc9gmFv_CK2",
        "outputId": "f22161b2-b5b0-4375-981d-9d95d1faf88d"
      },
      "outputs": [
        {
          "output_type": "stream",
          "name": "stderr",
          "text": [
            "<ipython-input-12-7b189e2febc6>:2: SettingWithCopyWarning: \n",
            "A value is trying to be set on a copy of a slice from a DataFrame.\n",
            "Try using .loc[row_indexer,col_indexer] = value instead\n",
            "\n",
            "See the caveats in the documentation: https://pandas.pydata.org/pandas-docs/stable/user_guide/indexing.html#returning-a-view-versus-a-copy\n",
            "  df['Post'] = df['Post'].str.replace(r'@\\w+', '', regex=True)\n",
            "<ipython-input-12-7b189e2febc6>:3: SettingWithCopyWarning: \n",
            "A value is trying to be set on a copy of a slice from a DataFrame.\n",
            "Try using .loc[row_indexer,col_indexer] = value instead\n",
            "\n",
            "See the caveats in the documentation: https://pandas.pydata.org/pandas-docs/stable/user_guide/indexing.html#returning-a-view-versus-a-copy\n",
            "  df['Post'] = df['Post'].str.replace(r'@/\\w+', '', regex=True)\n"
          ]
        }
      ],
      "source": [
        "# Remove strings starting with \"@\" and \"@/\"\n",
        "df['Post'] = df['Post'].str.replace(r'@\\w+', '', regex=True)\n",
        "df['Post'] = df['Post'].str.replace(r'@/\\w+', '', regex=True)"
      ]
    },
    {
      "cell_type": "code",
      "execution_count": null,
      "metadata": {
        "colab": {
          "base_uri": "https://localhost:8080/"
        },
        "id": "TKaExxVrAAii",
        "outputId": "99de1930-cfdf-4b5d-d8fe-0f965efbc67a"
      },
      "outputs": [
        {
          "output_type": "stream",
          "name": "stderr",
          "text": [
            "<ipython-input-13-774f03e025ae>:2: SettingWithCopyWarning: \n",
            "A value is trying to be set on a copy of a slice from a DataFrame.\n",
            "Try using .loc[row_indexer,col_indexer] = value instead\n",
            "\n",
            "See the caveats in the documentation: https://pandas.pydata.org/pandas-docs/stable/user_guide/indexing.html#returning-a-view-versus-a-copy\n",
            "  df['Post'] = df['Post'].str.replace(r'\\bhttp\\S*\\b', '', regex=True)\n"
          ]
        }
      ],
      "source": [
        "# Removing all links in our posts\n",
        "df['Post'] = df['Post'].str.replace(r'\\bhttp\\S*\\b', '', regex=True)"
      ]
    },
    {
      "cell_type": "code",
      "execution_count": null,
      "metadata": {
        "colab": {
          "base_uri": "https://localhost:8080/"
        },
        "id": "d_TBktS0A44w",
        "outputId": "379f97b3-0720-4a22-ad81-ea90a4b84525"
      },
      "outputs": [
        {
          "output_type": "stream",
          "name": "stderr",
          "text": [
            "<ipython-input-14-3dfb371182f5>:2: SettingWithCopyWarning: \n",
            "A value is trying to be set on a copy of a slice from a DataFrame.\n",
            "Try using .loc[row_indexer,col_indexer] = value instead\n",
            "\n",
            "See the caveats in the documentation: https://pandas.pydata.org/pandas-docs/stable/user_guide/indexing.html#returning-a-view-versus-a-copy\n",
            "  df['Post'] = df['Post'].str.replace(r'\\|\\|\\|', '\\n', regex=True)\n"
          ]
        }
      ],
      "source": [
        "# Remove \"|||\" from the \"Post\" column\n",
        "df['Post'] = df['Post'].str.replace(r'\\|\\|\\|', '\\n', regex=True)"
      ]
    },
    {
      "cell_type": "code",
      "execution_count": null,
      "metadata": {
        "colab": {
          "base_uri": "https://localhost:8080/"
        },
        "id": "rLPSyguRGW7E",
        "outputId": "f22e3330-b7b2-4bf0-f46d-1e2e7d72a9b8"
      },
      "outputs": [
        {
          "output_type": "stream",
          "name": "stderr",
          "text": [
            "<ipython-input-15-8387e8a64adf>:2: SettingWithCopyWarning: \n",
            "A value is trying to be set on a copy of a slice from a DataFrame.\n",
            "Try using .loc[row_indexer,col_indexer] = value instead\n",
            "\n",
            "See the caveats in the documentation: https://pandas.pydata.org/pandas-docs/stable/user_guide/indexing.html#returning-a-view-versus-a-copy\n",
            "  df['Post'] = df['Post'].str.replace(r'A4$\\n', '', regex=True)\n",
            "<ipython-input-15-8387e8a64adf>:3: SettingWithCopyWarning: \n",
            "A value is trying to be set on a copy of a slice from a DataFrame.\n",
            "Try using .loc[row_indexer,col_indexer] = value instead\n",
            "\n",
            "See the caveats in the documentation: https://pandas.pydata.org/pandas-docs/stable/user_guide/indexing.html#returning-a-view-versus-a-copy\n",
            "  df['Post'] = df['Post'].str.replace(r'&gt;', '', regex=True)\n",
            "<ipython-input-15-8387e8a64adf>:4: SettingWithCopyWarning: \n",
            "A value is trying to be set on a copy of a slice from a DataFrame.\n",
            "Try using .loc[row_indexer,col_indexer] = value instead\n",
            "\n",
            "See the caveats in the documentation: https://pandas.pydata.org/pandas-docs/stable/user_guide/indexing.html#returning-a-view-versus-a-copy\n",
            "  df['Post'] = df['Post'].str.replace(r'&lt;3', '', regex=True)\n"
          ]
        }
      ],
      "source": [
        "# removing A4$\\n and &gt; and &lt;3\n",
        "df['Post'] = df['Post'].str.replace(r'A4$\\n', '', regex=True)\n",
        "df['Post'] = df['Post'].str.replace(r'&gt;', '', regex=True)\n",
        "df['Post'] = df['Post'].str.replace(r'&lt;3', '', regex=True)"
      ]
    },
    {
      "cell_type": "code",
      "execution_count": null,
      "metadata": {
        "colab": {
          "base_uri": "https://localhost:8080/"
        },
        "id": "25ZxwcFnHg9k",
        "outputId": "79a84e03-dec8-46a1-90af-f9485e43f7aa"
      },
      "outputs": [
        {
          "output_type": "stream",
          "name": "stderr",
          "text": [
            "<ipython-input-16-c91fb016acb9>:2: SettingWithCopyWarning: \n",
            "A value is trying to be set on a copy of a slice from a DataFrame.\n",
            "Try using .loc[row_indexer,col_indexer] = value instead\n",
            "\n",
            "See the caveats in the documentation: https://pandas.pydata.org/pandas-docs/stable/user_guide/indexing.html#returning-a-view-versus-a-copy\n",
            "  df['Post'] = df['Post'].str.replace(r'…', '', regex=True)\n"
          ]
        }
      ],
      "source": [
        "# removing \"…\" which caused by scraping error and not the post it self other than ...\n",
        "df['Post'] = df['Post'].str.replace(r'…', '', regex=True)"
      ]
    },
    {
      "cell_type": "code",
      "execution_count": null,
      "metadata": {
        "colab": {
          "base_uri": "https://localhost:8080/"
        },
        "id": "pY5Tpqk5K8E8",
        "outputId": "8b99abae-0f61-46e0-a4cf-40be458f8a3c"
      },
      "outputs": [
        {
          "output_type": "stream",
          "name": "stderr",
          "text": [
            "<ipython-input-17-9e8ec851f619>:2: SettingWithCopyWarning: \n",
            "A value is trying to be set on a copy of a slice from a DataFrame.\n",
            "Try using .loc[row_indexer,col_indexer] = value instead\n",
            "\n",
            "See the caveats in the documentation: https://pandas.pydata.org/pandas-docs/stable/user_guide/indexing.html#returning-a-view-versus-a-copy\n",
            "  df['Post'] = df['Post'].str.replace(r':\\w+:', '', regex=True)\n"
          ]
        }
      ],
      "source": [
        "# Remove words starting and ending with \":\" || some emojiees fails to load and get loaded by text.\n",
        "df['Post'] = df['Post'].str.replace(r':\\w+:', '', regex=True)"
      ]
    },
    {
      "cell_type": "code",
      "execution_count": null,
      "metadata": {
        "colab": {
          "base_uri": "https://localhost:8080/"
        },
        "id": "grZ4jFoJ9dto",
        "outputId": "e453dfaa-2f2c-4f60-eaab-9febc7912140"
      },
      "outputs": [
        {
          "output_type": "stream",
          "name": "stderr",
          "text": [
            "<ipython-input-18-3a9f658b76e0>:2: SettingWithCopyWarning: \n",
            "A value is trying to be set on a copy of a slice from a DataFrame.\n",
            "Try using .loc[row_indexer,col_indexer] = value instead\n",
            "\n",
            "See the caveats in the documentation: https://pandas.pydata.org/pandas-docs/stable/user_guide/indexing.html#returning-a-view-versus-a-copy\n",
            "  df['Label'] = df['Label'].str.upper()\n"
          ]
        }
      ],
      "source": [
        "# Convert values in the \"c\" column to uppercase\n",
        "df['Label'] = df['Label'].str.upper()"
      ]
    },
    {
      "cell_type": "code",
      "execution_count": null,
      "metadata": {
        "id": "q9qfRkwMLgL9"
      },
      "outputs": [],
      "source": [
        "i = 15"
      ]
    },
    {
      "cell_type": "code",
      "execution_count": null,
      "metadata": {
        "colab": {
          "base_uri": "https://localhost:8080/"
        },
        "id": "kJFkVWgy_pw5",
        "outputId": "d50a0d8e-a460-4040-ddd9-4eb891bf278d"
      },
      "outputs": [
        {
          "output_type": "stream",
          "name": "stdout",
          "text": [
            " No. For Byul was \"no!\"\n",
            "Ok!\n",
            "Here I am. My Frankfurt experience.\n",
            "This is nothing more than a poor video made on a cell phone.\n",
            "But as I looke \n",
            " 21 feb docet\n",
            " Come darle torto.\n",
            " Non gliene frega na ceppa proprio\n",
            "Yong verso la fine della live stava per piangere mi sa ....\n",
            "Si... È vero.  perché gli americani sono per la maggior parte obesi \n",
            "   ancora di più  even Hwasa had said 1 anyway ....\n",
            "\n",
            "But I think you haven't noticed either 🤣🤣🤣🤣  speaks truth  today my bias Is Hwasa 🤣🤣🤣🤣 \n",
            " L inizio è capibile, quando Byul legge le lettere, la prima parla di fidanzati/e 🤣\n",
            "Queste Magnano sempre ❤️  le 2 e 3 gen , i leader, sorpassano tutti i 30 anni... E sono giovani... Non vedo tutta sta fretta di invecch  è spiccia 🤣 \n",
            " Right Arm : This is my soul and music saved my life from depression. \n",
            " It makes sense because its not possible to go from blonde to brunette without an intermediate step with \n",
            " Fermarsi significa anche questo. Essere felici per loro e la loro vita privata. 😭😭😭🥹🥹🥹🥹🥹\n",
            " Perché altrimenti non sarebbe Bambam\n",
            "Ahahahah la sirena al posto del criceto ahahahhahaah  don't know how to handle this Yong 🤣🤣🤣🤣 \n",
            " Alla sauna 🤣🤣🤣🤣\n",
            "Ieri l ha condivisa Byul ma la foto ce l' ha Yong? \n",
            "🤣👋👋👋 \n",
            "🥲🥲🥲🥲 \n",
            " Chun Li Street fighters \n",
            "Sei troppo giovane è una cosa mia e della gen di Yong\n",
            "Me. Me. ,😉😉  piscies  Moomoos ❤️\n",
            "\n",
            "#moomooselcaday \n",
            "🥲🥲🥲🥲 my Yongyong  \n",
            " Chiunque tu sia, sei un figo da paura\n",
            "Bambam che percula il mondo \n",
            "  Wtf wtf\n",
            " E tuo padre : \"pattex?\"\n",
            " Biadesivo 🤭🤭\n",
            " \n",
            "  Meeee te svieni.\n",
            "Com è RM ft Anne and Hwasa\n",
            "  You're handsome 🥹\n",
            " WOW\n",
            " ❤️❤️❤️\n",
            " 🤭🤭🤭🤭\n",
            "however they are very similar  Wheein Hwasa Byul \n",
            " Mia madre, così, è un tipo alla Byul. Mi inquieta\n",
            " *essere veneto*\n",
            " No, no please 🥲\n",
            " Casual listener since 2014, most particular listener since 2017, Moomoo as a true fan since 2019.\n",
            "OMG\n",
            "\n",
            "#D1_Mamamoo8thAnniversary\n",
            " Ti adoro brava bimba lo sapevo!!!!!\n",
            "Un uomo distrutto 🤣 \n",
            " Aoooo a bona!!!!\n",
            "  Help.\n",
            "I also want a ship though! I'm jealous\n",
            "Muoio   does my mother look like Byul?\n",
            "\n",
            "HELP 😮😮😮😮 \n",
            " the hair has 3 pigments\n",
            "yellow, red, blue.\n",
            "To go back to being a blonde you need at least 2/3 hair dyes \n",
            " I try to answer you.\n",
            "She was platinum blonde.\n",
            "There are several stages to return to brunette.\n",
            "It means \n",
            "❤️❤️❤️❤️ \n",
            " I agree with you\n",
            " No non è così. È di qualche giorno fa.\n",
            " Yes, as far as I'm concerned, I'm an adult.\n",
            "Sometimes I can explain myself wrong but I always try to ap \n",
            " Maybe I'm crazy and delulu so forgive me in advance.\n",
            "But I wrote two or three things here on twt which \n",
            " I have the impression that they read everything we say and write\n",
            "Moon \n",
            "Yong\n",
            "Whee\n",
            "Jin \n",
            "😭😭😭😭😭😭 \n",
            " For me between 11th and 13th June 😬\n",
            "Byul has hair of a color that comes from blond that is turning dark.\n",
            " If you notice, they are done \"in pairs\"\n",
            "Byul's and Whee's are of the same shape.\n",
            "Yong and Hye's too.\n",
            "Butterflies too.\n",
            "I cry.\n",
            "  Also, neither Yong nor Byul have nail polish, so it's neither Lunatic nor Honey period\n",
            "  Yes, I think it was shot between 11 and 13 June, when Yong was on a break from the theater. \n",
            " \n",
            " For me No it was shot a few days ago,\n",
            "Byul's hair is discharging...\n",
            " Yong's is beautiful 😍😍😍\n",
            "Yong's is beautiful 😍 OMG  sto piangendo? 😭😭😭😭  second-hand embarrassment  cose che non dirò 🥹🥹🥹  devo piangere di venerdì mattina? . help 🤣 \n",
            "🤣🤣🤣🤣🤣 \n",
            "🥲🥲🥲🥲🥲🥲 🤣  thread 🥹🥹🥹  my girl  \n",
            " Of course 🤣\n",
            " 😉😉😉😉😉 women must always be treated with respect ❤️\n",
            "  Esatto.\n",
            "Perché tutti i Piscies sono così ? .  \n",
            " Due giorni fa ero in macchina con una mia amica, è partita e ho raccontato la storia di sta canzon  agree 😶😶😶  will not participate.\n",
            "She has Moon night studio and schedule with Mamamoo for sure.\n",
            "The program is set in Vietn \n",
            " A Conservative has been elected in a State where there are more deaths than births.\n",
            "They have to incenti \n",
            " 🤣🤣🤣🤣 e forse Byul che le dice \"che stai facendo???\"\n",
            " Io stavo notando Hwasa che osserva la scena e all'ultimo mette la mano per aiutarla 😭😭😭\n",
            "She's coming back ... She's coming back   on football no? \n",
            " Yong be like \n",
            " Omg congrat ❤️❤️❤️❤️❤️ you're beautiful 😍 fighting\n",
            "obviously who could call her Squirtle? ✌️  vabbè Winona 🤣🤣🤣🤣🤣🤣 come se fosse l ultima persona sulla terra  \n",
            " It's not my fault if you're beautiful.\n",
            " Hi Jenlisa ❤️😶\n",
            " 🤣🤣🤣🤣🤣🤣🤣🤣🤣🤣🤣 vabbè cose che succedono anche in Italia dai\n",
            " Che è successo?\n",
            "Yong is growing her hair like in Um oh ah yeh  Chobom 😶❤️  fell in love with Rina\"\n",
            "\n",
            "But ehe is right! She is a wonderful person \n",
            " E ha ragione 🤣🤣🤣\n",
            " \n",
            " Ohhhhh HI CAT MIMI 🥰🥰\n",
            " Her name Is Mimi? 🤣🤣🤣🤣\n",
            " Yong is a living meme 🤣🤣🤣\n",
            " 🤣🤣🤣🤣  perché mi sembravano famigliari!  abbia i capelli di nuovo neri, i suoi lineamenti si sono addolciti rispetto al 2020.  giorno che passa .... È sempre più casuale 🤣🤣🤣🤣  ma quanto è sexy Hwasa quando ride? \n",
            "Hyeji sei belliiiissima  two seen next to each other are something like WOW   m Sorry but i'm falling in love with Rina 🥲🥲🥲  siano felici, in salute e facciano quello che vogliono. Non sono una Army ma ho passato la stessa cosa con Ma \n",
            " È amore.\n",
            "❤️ \n",
            " Sono completamente d'accordo, ci sono passata con le MMM l anno scorso.\n",
            "Ma poi... Hanno quasi tutte 30 ann . \n",
            "Immagina se per 10 lunghi anni sei sempre stato a servizio di letteralmente milioni di persone che stress \n",
            "  Bimbe stessa cosa per me....ero felice quando ascoltavo le influencer..emh... Poi per \n",
            "  \n",
            "  No a me sembra quello dei Dari ma forse non eravate manco natə\n",
            " I speak in general. Its true that she is injured but it can happen at any time in life honestly.\n",
            "The  thing that no one talks about but which is fundamental for me is that MoonByul in the Dingga period was really \n",
            " È un rafforzativo 😂\n",
            " they often read us. 🥲\n",
            " am I wrong or is it the second time this happens?\n",
            " Tutto quello che nelle frasi ha parole come *vere* o tendenti all'assolutismo sono false. \n",
            "È come il \n",
            " Ahahahhaahaha\n",
            "Ed è per questo che Yong è più equilibrata e saggia. È diventata una Idol tardi e quindi ha potuto godere dei momen  proposito di testate 😂  sostanza rimango su twt solo per gli aggiornamenti di Mamamoo, ma ormai si sta esaurendo il tempo per tutto. \n",
            "Se \n",
            "  Fai scoppiare twitter\n",
            "Being on Twitter no longer makes sense.  le Armi, quelle vere, che stanno provando quello che noi Moomoo abbiamo provato l'anno scorso.\n",
            "Vi siamo vicine!  \n",
            " Io la prenderò come una opportunità per skippare dal kpop\n",
            " ❤️❤️❤️\n",
            "even before Mamamoo ... she was my cross and delight \n",
            "😂😂😂  dai che belle!  \n",
            "❤️❤️❤️❤️  at Mama 2019 superior ❤️  Wheein\n",
            "If you are reading this Twt ... you were too beautiful that way 🥹🥹🥹  ora va di moda il verbo depistare. \n",
            "\n",
            "😂\n",
            "Amo Byul. Davvero.\n",
            "Ma no, ragazza. Ti prego di non fare queste cose.\n",
            "Dov'è finito i wanna be myself? \n",
            "😭  è dire poco   me get through this Hwasa.\n",
            "Hyejin you are too beautiful  forza con quel fondoschiena che si ritrova non vi aspettavate altro?  degli occhi bellissimi  my love we know you're here ...so ... Please 😬🥲 \n",
            " 😂  Jung Wheein 19yo \n",
            "🥲🥲🥲🥲🥲❤️❤️❤️❤️❤️ \n",
            " Che hai fatto?\n",
            " Yong, Byul and Hwasa have those haircuts now.... So...\n",
            "Io sono io. \n",
            " Con il latte e nesquik\n",
            " Yong sang it too 🥹🥹🥹🥹\n",
            "Tap in nel cuore 🥹 \n",
            " She has the same pigtail as when she cut her hair in Dingga actually\n",
            "Clannad After story 🥹 \n",
            "❤️❤️❤️❤️   most beautiful vlive with Hwasa was the one where we played \"guess the capital\" with her\n",
            "\n",
            "Translation didn't ev \n",
            "\n"
          ]
        }
      ],
      "source": [
        "# Print the first element in the \"Post\" column\n",
        "i+=1\n",
        "print(df['Post'].iloc[i])"
      ]
    },
    {
      "cell_type": "markdown",
      "metadata": {
        "id": "YbfF4c_t68AW"
      },
      "source": [
        "###------------------------------------------------------------------------------\n",
        "##     Preparing all dataframes\n",
        "###----------------------------------------------------------------------------------"
      ]
    },
    {
      "cell_type": "code",
      "execution_count": null,
      "metadata": {
        "colab": {
          "base_uri": "https://localhost:8080/",
          "height": 423
        },
        "id": "vzassgTC_kSQ",
        "outputId": "6404906c-dc02-49db-9979-6f71232cee94"
      },
      "outputs": [
        {
          "output_type": "execute_result",
          "data": {
            "text/plain": [
              "                                                     Post Label\n",
              "0          The Pope is infallible, this is a catholic ...  INTJ\n",
              "1        Being you makes you look cute\\n On, because t...  INTJ\n",
              "2        Les balles sont réelles et sont tirées très r...  INTJ\n",
              "3       I'm like entp but idiotic\\nHey boy, do you wan...  INTJ\n",
              "4        Give it to  ... He has Pica since childhood\\n...  INTJ\n",
              "...                                                   ...   ...\n",
              "106062  stay frustrate world life want take long nap w...  INFP\n",
              "106063  fizzle around time mention sure mistake thing ...  INFP\n",
              "106064  schedule modify hey w intp strong wing underst...  INFP\n",
              "106065  enfj since january busy schedule able spend li...  INFP\n",
              "106066  feel like men good problem tell parent want te...  INFP\n",
              "\n",
              "[122324 rows x 2 columns]"
            ],
            "text/html": [
              "\n",
              "  <div id=\"df-eb2b4642-4e67-4781-b915-01984b169971\" class=\"colab-df-container\">\n",
              "    <div>\n",
              "<style scoped>\n",
              "    .dataframe tbody tr th:only-of-type {\n",
              "        vertical-align: middle;\n",
              "    }\n",
              "\n",
              "    .dataframe tbody tr th {\n",
              "        vertical-align: top;\n",
              "    }\n",
              "\n",
              "    .dataframe thead th {\n",
              "        text-align: right;\n",
              "    }\n",
              "</style>\n",
              "<table border=\"1\" class=\"dataframe\">\n",
              "  <thead>\n",
              "    <tr style=\"text-align: right;\">\n",
              "      <th></th>\n",
              "      <th>Post</th>\n",
              "      <th>Label</th>\n",
              "    </tr>\n",
              "  </thead>\n",
              "  <tbody>\n",
              "    <tr>\n",
              "      <th>0</th>\n",
              "      <td>The Pope is infallible, this is a catholic ...</td>\n",
              "      <td>INTJ</td>\n",
              "    </tr>\n",
              "    <tr>\n",
              "      <th>1</th>\n",
              "      <td>Being you makes you look cute\\n On, because t...</td>\n",
              "      <td>INTJ</td>\n",
              "    </tr>\n",
              "    <tr>\n",
              "      <th>2</th>\n",
              "      <td>Les balles sont réelles et sont tirées très r...</td>\n",
              "      <td>INTJ</td>\n",
              "    </tr>\n",
              "    <tr>\n",
              "      <th>3</th>\n",
              "      <td>I'm like entp but idiotic\\nHey boy, do you wan...</td>\n",
              "      <td>INTJ</td>\n",
              "    </tr>\n",
              "    <tr>\n",
              "      <th>4</th>\n",
              "      <td>Give it to  ... He has Pica since childhood\\n...</td>\n",
              "      <td>INTJ</td>\n",
              "    </tr>\n",
              "    <tr>\n",
              "      <th>...</th>\n",
              "      <td>...</td>\n",
              "      <td>...</td>\n",
              "    </tr>\n",
              "    <tr>\n",
              "      <th>106062</th>\n",
              "      <td>stay frustrate world life want take long nap w...</td>\n",
              "      <td>INFP</td>\n",
              "    </tr>\n",
              "    <tr>\n",
              "      <th>106063</th>\n",
              "      <td>fizzle around time mention sure mistake thing ...</td>\n",
              "      <td>INFP</td>\n",
              "    </tr>\n",
              "    <tr>\n",
              "      <th>106064</th>\n",
              "      <td>schedule modify hey w intp strong wing underst...</td>\n",
              "      <td>INFP</td>\n",
              "    </tr>\n",
              "    <tr>\n",
              "      <th>106065</th>\n",
              "      <td>enfj since january busy schedule able spend li...</td>\n",
              "      <td>INFP</td>\n",
              "    </tr>\n",
              "    <tr>\n",
              "      <th>106066</th>\n",
              "      <td>feel like men good problem tell parent want te...</td>\n",
              "      <td>INFP</td>\n",
              "    </tr>\n",
              "  </tbody>\n",
              "</table>\n",
              "<p>122324 rows × 2 columns</p>\n",
              "</div>\n",
              "    <div class=\"colab-df-buttons\">\n",
              "\n",
              "  <div class=\"colab-df-container\">\n",
              "    <button class=\"colab-df-convert\" onclick=\"convertToInteractive('df-eb2b4642-4e67-4781-b915-01984b169971')\"\n",
              "            title=\"Convert this dataframe to an interactive table.\"\n",
              "            style=\"display:none;\">\n",
              "\n",
              "  <svg xmlns=\"http://www.w3.org/2000/svg\" height=\"24px\" viewBox=\"0 -960 960 960\">\n",
              "    <path d=\"M120-120v-720h720v720H120Zm60-500h600v-160H180v160Zm220 220h160v-160H400v160Zm0 220h160v-160H400v160ZM180-400h160v-160H180v160Zm440 0h160v-160H620v160ZM180-180h160v-160H180v160Zm440 0h160v-160H620v160Z\"/>\n",
              "  </svg>\n",
              "    </button>\n",
              "\n",
              "  <style>\n",
              "    .colab-df-container {\n",
              "      display:flex;\n",
              "      gap: 12px;\n",
              "    }\n",
              "\n",
              "    .colab-df-convert {\n",
              "      background-color: #E8F0FE;\n",
              "      border: none;\n",
              "      border-radius: 50%;\n",
              "      cursor: pointer;\n",
              "      display: none;\n",
              "      fill: #1967D2;\n",
              "      height: 32px;\n",
              "      padding: 0 0 0 0;\n",
              "      width: 32px;\n",
              "    }\n",
              "\n",
              "    .colab-df-convert:hover {\n",
              "      background-color: #E2EBFA;\n",
              "      box-shadow: 0px 1px 2px rgba(60, 64, 67, 0.3), 0px 1px 3px 1px rgba(60, 64, 67, 0.15);\n",
              "      fill: #174EA6;\n",
              "    }\n",
              "\n",
              "    .colab-df-buttons div {\n",
              "      margin-bottom: 4px;\n",
              "    }\n",
              "\n",
              "    [theme=dark] .colab-df-convert {\n",
              "      background-color: #3B4455;\n",
              "      fill: #D2E3FC;\n",
              "    }\n",
              "\n",
              "    [theme=dark] .colab-df-convert:hover {\n",
              "      background-color: #434B5C;\n",
              "      box-shadow: 0px 1px 3px 1px rgba(0, 0, 0, 0.15);\n",
              "      filter: drop-shadow(0px 1px 2px rgba(0, 0, 0, 0.3));\n",
              "      fill: #FFFFFF;\n",
              "    }\n",
              "  </style>\n",
              "\n",
              "    <script>\n",
              "      const buttonEl =\n",
              "        document.querySelector('#df-eb2b4642-4e67-4781-b915-01984b169971 button.colab-df-convert');\n",
              "      buttonEl.style.display =\n",
              "        google.colab.kernel.accessAllowed ? 'block' : 'none';\n",
              "\n",
              "      async function convertToInteractive(key) {\n",
              "        const element = document.querySelector('#df-eb2b4642-4e67-4781-b915-01984b169971');\n",
              "        const dataTable =\n",
              "          await google.colab.kernel.invokeFunction('convertToInteractive',\n",
              "                                                    [key], {});\n",
              "        if (!dataTable) return;\n",
              "\n",
              "        const docLinkHtml = 'Like what you see? Visit the ' +\n",
              "          '<a target=\"_blank\" href=https://colab.research.google.com/notebooks/data_table.ipynb>data table notebook</a>'\n",
              "          + ' to learn more about interactive tables.';\n",
              "        element.innerHTML = '';\n",
              "        dataTable['output_type'] = 'display_data';\n",
              "        await google.colab.output.renderOutput(dataTable, element);\n",
              "        const docLink = document.createElement('div');\n",
              "        docLink.innerHTML = docLinkHtml;\n",
              "        element.appendChild(docLink);\n",
              "      }\n",
              "    </script>\n",
              "  </div>\n",
              "\n",
              "\n",
              "<div id=\"df-7f25ba99-7284-46ab-a751-638c7635e46e\">\n",
              "  <button class=\"colab-df-quickchart\" onclick=\"quickchart('df-7f25ba99-7284-46ab-a751-638c7635e46e')\"\n",
              "            title=\"Suggest charts\"\n",
              "            style=\"display:none;\">\n",
              "\n",
              "<svg xmlns=\"http://www.w3.org/2000/svg\" height=\"24px\"viewBox=\"0 0 24 24\"\n",
              "     width=\"24px\">\n",
              "    <g>\n",
              "        <path d=\"M19 3H5c-1.1 0-2 .9-2 2v14c0 1.1.9 2 2 2h14c1.1 0 2-.9 2-2V5c0-1.1-.9-2-2-2zM9 17H7v-7h2v7zm4 0h-2V7h2v10zm4 0h-2v-4h2v4z\"/>\n",
              "    </g>\n",
              "</svg>\n",
              "  </button>\n",
              "\n",
              "<style>\n",
              "  .colab-df-quickchart {\n",
              "      --bg-color: #E8F0FE;\n",
              "      --fill-color: #1967D2;\n",
              "      --hover-bg-color: #E2EBFA;\n",
              "      --hover-fill-color: #174EA6;\n",
              "      --disabled-fill-color: #AAA;\n",
              "      --disabled-bg-color: #DDD;\n",
              "  }\n",
              "\n",
              "  [theme=dark] .colab-df-quickchart {\n",
              "      --bg-color: #3B4455;\n",
              "      --fill-color: #D2E3FC;\n",
              "      --hover-bg-color: #434B5C;\n",
              "      --hover-fill-color: #FFFFFF;\n",
              "      --disabled-bg-color: #3B4455;\n",
              "      --disabled-fill-color: #666;\n",
              "  }\n",
              "\n",
              "  .colab-df-quickchart {\n",
              "    background-color: var(--bg-color);\n",
              "    border: none;\n",
              "    border-radius: 50%;\n",
              "    cursor: pointer;\n",
              "    display: none;\n",
              "    fill: var(--fill-color);\n",
              "    height: 32px;\n",
              "    padding: 0;\n",
              "    width: 32px;\n",
              "  }\n",
              "\n",
              "  .colab-df-quickchart:hover {\n",
              "    background-color: var(--hover-bg-color);\n",
              "    box-shadow: 0 1px 2px rgba(60, 64, 67, 0.3), 0 1px 3px 1px rgba(60, 64, 67, 0.15);\n",
              "    fill: var(--button-hover-fill-color);\n",
              "  }\n",
              "\n",
              "  .colab-df-quickchart-complete:disabled,\n",
              "  .colab-df-quickchart-complete:disabled:hover {\n",
              "    background-color: var(--disabled-bg-color);\n",
              "    fill: var(--disabled-fill-color);\n",
              "    box-shadow: none;\n",
              "  }\n",
              "\n",
              "  .colab-df-spinner {\n",
              "    border: 2px solid var(--fill-color);\n",
              "    border-color: transparent;\n",
              "    border-bottom-color: var(--fill-color);\n",
              "    animation:\n",
              "      spin 1s steps(1) infinite;\n",
              "  }\n",
              "\n",
              "  @keyframes spin {\n",
              "    0% {\n",
              "      border-color: transparent;\n",
              "      border-bottom-color: var(--fill-color);\n",
              "      border-left-color: var(--fill-color);\n",
              "    }\n",
              "    20% {\n",
              "      border-color: transparent;\n",
              "      border-left-color: var(--fill-color);\n",
              "      border-top-color: var(--fill-color);\n",
              "    }\n",
              "    30% {\n",
              "      border-color: transparent;\n",
              "      border-left-color: var(--fill-color);\n",
              "      border-top-color: var(--fill-color);\n",
              "      border-right-color: var(--fill-color);\n",
              "    }\n",
              "    40% {\n",
              "      border-color: transparent;\n",
              "      border-right-color: var(--fill-color);\n",
              "      border-top-color: var(--fill-color);\n",
              "    }\n",
              "    60% {\n",
              "      border-color: transparent;\n",
              "      border-right-color: var(--fill-color);\n",
              "    }\n",
              "    80% {\n",
              "      border-color: transparent;\n",
              "      border-right-color: var(--fill-color);\n",
              "      border-bottom-color: var(--fill-color);\n",
              "    }\n",
              "    90% {\n",
              "      border-color: transparent;\n",
              "      border-bottom-color: var(--fill-color);\n",
              "    }\n",
              "  }\n",
              "</style>\n",
              "\n",
              "  <script>\n",
              "    async function quickchart(key) {\n",
              "      const quickchartButtonEl =\n",
              "        document.querySelector('#' + key + ' button');\n",
              "      quickchartButtonEl.disabled = true;  // To prevent multiple clicks.\n",
              "      quickchartButtonEl.classList.add('colab-df-spinner');\n",
              "      try {\n",
              "        const charts = await google.colab.kernel.invokeFunction(\n",
              "            'suggestCharts', [key], {});\n",
              "      } catch (error) {\n",
              "        console.error('Error during call to suggestCharts:', error);\n",
              "      }\n",
              "      quickchartButtonEl.classList.remove('colab-df-spinner');\n",
              "      quickchartButtonEl.classList.add('colab-df-quickchart-complete');\n",
              "    }\n",
              "    (() => {\n",
              "      let quickchartButtonEl =\n",
              "        document.querySelector('#df-7f25ba99-7284-46ab-a751-638c7635e46e button');\n",
              "      quickchartButtonEl.style.display =\n",
              "        google.colab.kernel.accessAllowed ? 'block' : 'none';\n",
              "    })();\n",
              "  </script>\n",
              "</div>\n",
              "    </div>\n",
              "  </div>\n"
            ]
          },
          "metadata": {},
          "execution_count": 21
        }
      ],
      "source": [
        "#Major dataset containg all MBTI categories\n",
        "df"
      ]
    },
    {
      "cell_type": "code",
      "execution_count": null,
      "metadata": {
        "id": "vDB7j9gx8Bt-"
      },
      "outputs": [],
      "source": [
        "#Introver Extrovert Dataframe\n",
        "ie_df = df.copy()\n",
        "\n",
        "#Sensors Intuitves Dataframe\n",
        "ns_df = df.copy()\n",
        "\n",
        "#Thinkers Feelers Dataframe\n",
        "tf_df = df.copy()\n",
        "\n",
        "#Judgers Preservers Dataframe\n",
        "jp_df = df.copy()\n",
        "\n",
        "# Modify the \"Label\" column for each one of the above\n",
        "ie_df['Label'] = ie_df['Label'].str[:-3]\n",
        "\n",
        "ns_df['Label'] = ns_df['Label'].str[1:-2]\n",
        "\n",
        "tf_df['Label'] = tf_df['Label'].str[2:-1]\n",
        "\n",
        "jp_df['Label'] = jp_df['Label'].str[3:]"
      ]
    },
    {
      "cell_type": "code",
      "execution_count": null,
      "metadata": {
        "colab": {
          "base_uri": "https://localhost:8080/"
        },
        "id": "uZbYc5D81iwK",
        "outputId": "4b73e045-4f45-4c6c-f7e2-c92ec067bdd0"
      },
      "outputs": [
        {
          "output_type": "stream",
          "name": "stdout",
          "text": [
            "                                                     Post Label\n",
            "0          The Pope is infallible, this is a catholic ...     I\n",
            "1        Being you makes you look cute\\n On, because t...     I\n",
            "2        Les balles sont réelles et sont tirées très r...     I\n",
            "3       I'm like entp but idiotic\\nHey boy, do you wan...     I\n",
            "4        Give it to  ... He has Pica since childhood\\n...     I\n",
            "...                                                   ...   ...\n",
            "106062  stay frustrate world life want take long nap w...     I\n",
            "106063  fizzle around time mention sure mistake thing ...     I\n",
            "106064  schedule modify hey w intp strong wing underst...     I\n",
            "106065  enfj since january busy schedule able spend li...     I\n",
            "106066  feel like men good problem tell parent want te...     I\n",
            "\n",
            "[122324 rows x 2 columns]\n",
            "                                                     Post Label\n",
            "0          The Pope is infallible, this is a catholic ...     N\n",
            "1        Being you makes you look cute\\n On, because t...     N\n",
            "2        Les balles sont réelles et sont tirées très r...     N\n",
            "3       I'm like entp but idiotic\\nHey boy, do you wan...     N\n",
            "4        Give it to  ... He has Pica since childhood\\n...     N\n",
            "...                                                   ...   ...\n",
            "106062  stay frustrate world life want take long nap w...     N\n",
            "106063  fizzle around time mention sure mistake thing ...     N\n",
            "106064  schedule modify hey w intp strong wing underst...     N\n",
            "106065  enfj since january busy schedule able spend li...     N\n",
            "106066  feel like men good problem tell parent want te...     N\n",
            "\n",
            "[122324 rows x 2 columns]\n",
            "                                                     Post Label\n",
            "0          The Pope is infallible, this is a catholic ...     T\n",
            "1        Being you makes you look cute\\n On, because t...     T\n",
            "2        Les balles sont réelles et sont tirées très r...     T\n",
            "3       I'm like entp but idiotic\\nHey boy, do you wan...     T\n",
            "4        Give it to  ... He has Pica since childhood\\n...     T\n",
            "...                                                   ...   ...\n",
            "106062  stay frustrate world life want take long nap w...     F\n",
            "106063  fizzle around time mention sure mistake thing ...     F\n",
            "106064  schedule modify hey w intp strong wing underst...     F\n",
            "106065  enfj since january busy schedule able spend li...     F\n",
            "106066  feel like men good problem tell parent want te...     F\n",
            "\n",
            "[122324 rows x 2 columns]\n",
            "                                                     Post Label\n",
            "0          The Pope is infallible, this is a catholic ...     J\n",
            "1        Being you makes you look cute\\n On, because t...     J\n",
            "2        Les balles sont réelles et sont tirées très r...     J\n",
            "3       I'm like entp but idiotic\\nHey boy, do you wan...     J\n",
            "4        Give it to  ... He has Pica since childhood\\n...     J\n",
            "...                                                   ...   ...\n",
            "106062  stay frustrate world life want take long nap w...     P\n",
            "106063  fizzle around time mention sure mistake thing ...     P\n",
            "106064  schedule modify hey w intp strong wing underst...     P\n",
            "106065  enfj since january busy schedule able spend li...     P\n",
            "106066  feel like men good problem tell parent want te...     P\n",
            "\n",
            "[122324 rows x 2 columns]\n"
          ]
        }
      ],
      "source": [
        "print(ie_df)\n",
        "print(ns_df)\n",
        "print(tf_df)\n",
        "print(jp_df)"
      ]
    },
    {
      "cell_type": "code",
      "execution_count": null,
      "metadata": {
        "colab": {
          "base_uri": "https://localhost:8080/"
        },
        "id": "hEAEB24E-f_a",
        "outputId": "a78be39a-fc1b-456f-cd46-b9b1fe4d2dcf"
      },
      "outputs": [
        {
          "output_type": "stream",
          "name": "stdout",
          "text": [
            "I, E sizes 92438 29886\n",
            "N, S sizes 110190 12134\n",
            "T, F sizes 76297 46027\n",
            "J, P sizes 51200 71124\n"
          ]
        }
      ],
      "source": [
        "# Print all rows where the \"Label\" column has a value containing the letter \"E\"\n",
        "print(\"I, E sizes\", len(ie_df[ie_df['Label'].str.contains('I')]), len(ie_df[ie_df['Label'].str.contains('E')]))\n",
        "print(\"N, S sizes\", len(ns_df[ns_df['Label'].str.contains('N')]), len(ns_df[ns_df['Label'].str.contains('S')]))\n",
        "print(\"T, F sizes\", len(tf_df[tf_df['Label'].str.contains('T')]), len(tf_df[tf_df['Label'].str.contains('F')]))\n",
        "print(\"J, P sizes\", len(jp_df[jp_df['Label'].str.contains('J')]), len(jp_df[jp_df['Label'].str.contains('P')]))"
      ]
    },
    {
      "cell_type": "code",
      "execution_count": null,
      "metadata": {
        "id": "F7_C_4SVbqa2"
      },
      "outputs": [],
      "source": [
        "import numpy as np"
      ]
    },
    {
      "cell_type": "code",
      "execution_count": null,
      "metadata": {
        "id": "Q9sh8nvl-6Kw"
      },
      "outputs": [],
      "source": [
        "#equazling the dataframes values\n",
        "def equalizer(df):\n",
        "  # Display the unique values of the \"Label\" column and their counts\n",
        "  label_counts = df['Label'].value_counts()\n",
        "\n",
        "  #getting the minority and majority\n",
        "  minority = label_counts[label_counts == label_counts.min()]\n",
        "  majority = label_counts[label_counts == label_counts.max()]\n",
        "\n",
        "  # Number of values to drop\n",
        "  values_to_drop = majority.values[0] - minority.values[0]\n",
        "\n",
        "  print(\"Dropping :\", values_to_drop, \" Given that we have mj,mn : \", majority.values[0], minority.values[0])\n",
        "  # Identify indices where Label is \"I\"\n",
        "  indices_i = df[df['Label'] == majority.index[0]].index\n",
        "\n",
        "  # Randomly select indices to drop, ensuring not to exceed the current count of \"I\"\n",
        "  indices_to_drop = np.random.choice(indices_i, size=values_to_drop, replace=False)\n",
        "\n",
        "  df = df.drop(indices_to_drop)\n",
        "\n",
        "  return df"
      ]
    },
    {
      "cell_type": "code",
      "execution_count": null,
      "metadata": {
        "colab": {
          "base_uri": "https://localhost:8080/"
        },
        "id": "0UFEKQZxbYFb",
        "outputId": "d564b7a9-3586-4dde-ae28-97d030b4c42f"
      },
      "outputs": [
        {
          "output_type": "stream",
          "name": "stdout",
          "text": [
            "Dropping : 62552  Given that we have mj,mn :  92438 29886\n",
            "Dropping : 98056  Given that we have mj,mn :  110190 12134\n",
            "Dropping : 30270  Given that we have mj,mn :  76297 46027\n",
            "Dropping : 19924  Given that we have mj,mn :  71124 51200\n"
          ]
        }
      ],
      "source": [
        "qualized_ie_df = equalizer(ie_df)\n",
        "qualized_ns_df = equalizer(ns_df)\n",
        "qualized_tf_df = equalizer(tf_df)\n",
        "qualized_jp_df = equalizer(jp_df)"
      ]
    },
    {
      "cell_type": "code",
      "execution_count": null,
      "metadata": {
        "colab": {
          "base_uri": "https://localhost:8080/",
          "height": 390
        },
        "id": "Y8lW2Ri5bmk9",
        "outputId": "c57013f6-8782-48e5-c951-267fa8081ad4"
      },
      "outputs": [
        {
          "output_type": "error",
          "ename": "AttributeError",
          "evalue": "Can only use .str accessor with string values!",
          "traceback": [
            "\u001b[0;31m---------------------------------------------------------------------------\u001b[0m",
            "\u001b[0;31mAttributeError\u001b[0m                            Traceback (most recent call last)",
            "\u001b[0;32m<ipython-input-39-aba16fc39d8b>\u001b[0m in \u001b[0;36m<cell line: 2>\u001b[0;34m()\u001b[0m\n\u001b[1;32m      1\u001b[0m \u001b[0;31m#checking the equalized values\u001b[0m\u001b[0;34m\u001b[0m\u001b[0;34m\u001b[0m\u001b[0m\n\u001b[0;32m----> 2\u001b[0;31m \u001b[0mprint\u001b[0m\u001b[0;34m(\u001b[0m\u001b[0;34m\"I, E sizes\"\u001b[0m\u001b[0;34m,\u001b[0m \u001b[0mlen\u001b[0m\u001b[0;34m(\u001b[0m\u001b[0mqualized_ie_df\u001b[0m\u001b[0;34m[\u001b[0m\u001b[0mqualized_ie_df\u001b[0m\u001b[0;34m[\u001b[0m\u001b[0;34m'Label'\u001b[0m\u001b[0;34m]\u001b[0m\u001b[0;34m.\u001b[0m\u001b[0mstr\u001b[0m\u001b[0;34m.\u001b[0m\u001b[0mcontains\u001b[0m\u001b[0;34m(\u001b[0m\u001b[0;34m'I'\u001b[0m\u001b[0;34m)\u001b[0m\u001b[0;34m]\u001b[0m\u001b[0;34m)\u001b[0m\u001b[0;34m,\u001b[0m \u001b[0mlen\u001b[0m\u001b[0;34m(\u001b[0m\u001b[0mqualized_ie_df\u001b[0m\u001b[0;34m[\u001b[0m\u001b[0mqualized_ie_df\u001b[0m\u001b[0;34m[\u001b[0m\u001b[0;34m'Label'\u001b[0m\u001b[0;34m]\u001b[0m\u001b[0;34m.\u001b[0m\u001b[0mstr\u001b[0m\u001b[0;34m.\u001b[0m\u001b[0mcontains\u001b[0m\u001b[0;34m(\u001b[0m\u001b[0;34m'E'\u001b[0m\u001b[0;34m)\u001b[0m\u001b[0;34m]\u001b[0m\u001b[0;34m)\u001b[0m\u001b[0;34m)\u001b[0m\u001b[0;34m\u001b[0m\u001b[0;34m\u001b[0m\u001b[0m\n\u001b[0m\u001b[1;32m      3\u001b[0m \u001b[0mprint\u001b[0m\u001b[0;34m(\u001b[0m\u001b[0;34m\"N, S sizes\"\u001b[0m\u001b[0;34m,\u001b[0m \u001b[0mlen\u001b[0m\u001b[0;34m(\u001b[0m\u001b[0mqualized_ns_df\u001b[0m\u001b[0;34m[\u001b[0m\u001b[0mqualized_ns_df\u001b[0m\u001b[0;34m[\u001b[0m\u001b[0;34m'Label'\u001b[0m\u001b[0;34m]\u001b[0m\u001b[0;34m.\u001b[0m\u001b[0mstr\u001b[0m\u001b[0;34m.\u001b[0m\u001b[0mcontains\u001b[0m\u001b[0;34m(\u001b[0m\u001b[0;34m'N'\u001b[0m\u001b[0;34m)\u001b[0m\u001b[0;34m]\u001b[0m\u001b[0;34m)\u001b[0m\u001b[0;34m,\u001b[0m \u001b[0mlen\u001b[0m\u001b[0;34m(\u001b[0m\u001b[0mqualized_ns_df\u001b[0m\u001b[0;34m[\u001b[0m\u001b[0mqualized_ns_df\u001b[0m\u001b[0;34m[\u001b[0m\u001b[0;34m'Label'\u001b[0m\u001b[0;34m]\u001b[0m\u001b[0;34m.\u001b[0m\u001b[0mstr\u001b[0m\u001b[0;34m.\u001b[0m\u001b[0mcontains\u001b[0m\u001b[0;34m(\u001b[0m\u001b[0;34m'S'\u001b[0m\u001b[0;34m)\u001b[0m\u001b[0;34m]\u001b[0m\u001b[0;34m)\u001b[0m\u001b[0;34m)\u001b[0m\u001b[0;34m\u001b[0m\u001b[0;34m\u001b[0m\u001b[0m\n\u001b[1;32m      4\u001b[0m \u001b[0mprint\u001b[0m\u001b[0;34m(\u001b[0m\u001b[0;34m\"T, F sizes\"\u001b[0m\u001b[0;34m,\u001b[0m \u001b[0mlen\u001b[0m\u001b[0;34m(\u001b[0m\u001b[0mqualized_tf_df\u001b[0m\u001b[0;34m[\u001b[0m\u001b[0mqualized_tf_df\u001b[0m\u001b[0;34m[\u001b[0m\u001b[0;34m'Label'\u001b[0m\u001b[0;34m]\u001b[0m\u001b[0;34m.\u001b[0m\u001b[0mstr\u001b[0m\u001b[0;34m.\u001b[0m\u001b[0mcontains\u001b[0m\u001b[0;34m(\u001b[0m\u001b[0;34m'T'\u001b[0m\u001b[0;34m)\u001b[0m\u001b[0;34m]\u001b[0m\u001b[0;34m)\u001b[0m\u001b[0;34m,\u001b[0m \u001b[0mlen\u001b[0m\u001b[0;34m(\u001b[0m\u001b[0mqualized_tf_df\u001b[0m\u001b[0;34m[\u001b[0m\u001b[0mqualized_tf_df\u001b[0m\u001b[0;34m[\u001b[0m\u001b[0;34m'Label'\u001b[0m\u001b[0;34m]\u001b[0m\u001b[0;34m.\u001b[0m\u001b[0mstr\u001b[0m\u001b[0;34m.\u001b[0m\u001b[0mcontains\u001b[0m\u001b[0;34m(\u001b[0m\u001b[0;34m'F'\u001b[0m\u001b[0;34m)\u001b[0m\u001b[0;34m]\u001b[0m\u001b[0;34m)\u001b[0m\u001b[0;34m)\u001b[0m\u001b[0;34m\u001b[0m\u001b[0;34m\u001b[0m\u001b[0m\n\u001b[1;32m      5\u001b[0m \u001b[0mprint\u001b[0m\u001b[0;34m(\u001b[0m\u001b[0;34m\"J, P sizes\"\u001b[0m\u001b[0;34m,\u001b[0m \u001b[0mlen\u001b[0m\u001b[0;34m(\u001b[0m\u001b[0mqualized_jp_df\u001b[0m\u001b[0;34m[\u001b[0m\u001b[0mqualized_jp_df\u001b[0m\u001b[0;34m[\u001b[0m\u001b[0;34m'Label'\u001b[0m\u001b[0;34m]\u001b[0m\u001b[0;34m.\u001b[0m\u001b[0mstr\u001b[0m\u001b[0;34m.\u001b[0m\u001b[0mcontains\u001b[0m\u001b[0;34m(\u001b[0m\u001b[0;34m'J'\u001b[0m\u001b[0;34m)\u001b[0m\u001b[0;34m]\u001b[0m\u001b[0;34m)\u001b[0m\u001b[0;34m,\u001b[0m \u001b[0mlen\u001b[0m\u001b[0;34m(\u001b[0m\u001b[0mqualized_jp_df\u001b[0m\u001b[0;34m[\u001b[0m\u001b[0mqualized_jp_df\u001b[0m\u001b[0;34m[\u001b[0m\u001b[0;34m'Label'\u001b[0m\u001b[0;34m]\u001b[0m\u001b[0;34m.\u001b[0m\u001b[0mstr\u001b[0m\u001b[0;34m.\u001b[0m\u001b[0mcontains\u001b[0m\u001b[0;34m(\u001b[0m\u001b[0;34m'P'\u001b[0m\u001b[0;34m)\u001b[0m\u001b[0;34m]\u001b[0m\u001b[0;34m)\u001b[0m\u001b[0;34m)\u001b[0m\u001b[0;34m\u001b[0m\u001b[0;34m\u001b[0m\u001b[0m\n",
            "\u001b[0;32m/usr/local/lib/python3.10/dist-packages/pandas/core/generic.py\u001b[0m in \u001b[0;36m__getattr__\u001b[0;34m(self, name)\u001b[0m\n\u001b[1;32m   5900\u001b[0m         ):\n\u001b[1;32m   5901\u001b[0m             \u001b[0;32mreturn\u001b[0m \u001b[0mself\u001b[0m\u001b[0;34m[\u001b[0m\u001b[0mname\u001b[0m\u001b[0;34m]\u001b[0m\u001b[0;34m\u001b[0m\u001b[0;34m\u001b[0m\u001b[0m\n\u001b[0;32m-> 5902\u001b[0;31m         \u001b[0;32mreturn\u001b[0m \u001b[0mobject\u001b[0m\u001b[0;34m.\u001b[0m\u001b[0m__getattribute__\u001b[0m\u001b[0;34m(\u001b[0m\u001b[0mself\u001b[0m\u001b[0;34m,\u001b[0m \u001b[0mname\u001b[0m\u001b[0;34m)\u001b[0m\u001b[0;34m\u001b[0m\u001b[0;34m\u001b[0m\u001b[0m\n\u001b[0m\u001b[1;32m   5903\u001b[0m \u001b[0;34m\u001b[0m\u001b[0m\n\u001b[1;32m   5904\u001b[0m     \u001b[0;32mdef\u001b[0m \u001b[0m__setattr__\u001b[0m\u001b[0;34m(\u001b[0m\u001b[0mself\u001b[0m\u001b[0;34m,\u001b[0m \u001b[0mname\u001b[0m\u001b[0;34m:\u001b[0m \u001b[0mstr\u001b[0m\u001b[0;34m,\u001b[0m \u001b[0mvalue\u001b[0m\u001b[0;34m)\u001b[0m \u001b[0;34m->\u001b[0m \u001b[0;32mNone\u001b[0m\u001b[0;34m:\u001b[0m\u001b[0;34m\u001b[0m\u001b[0;34m\u001b[0m\u001b[0m\n",
            "\u001b[0;32m/usr/local/lib/python3.10/dist-packages/pandas/core/accessor.py\u001b[0m in \u001b[0;36m__get__\u001b[0;34m(self, obj, cls)\u001b[0m\n\u001b[1;32m    180\u001b[0m             \u001b[0;31m# we're accessing the attribute of the class, i.e., Dataset.geo\u001b[0m\u001b[0;34m\u001b[0m\u001b[0;34m\u001b[0m\u001b[0m\n\u001b[1;32m    181\u001b[0m             \u001b[0;32mreturn\u001b[0m \u001b[0mself\u001b[0m\u001b[0;34m.\u001b[0m\u001b[0m_accessor\u001b[0m\u001b[0;34m\u001b[0m\u001b[0;34m\u001b[0m\u001b[0m\n\u001b[0;32m--> 182\u001b[0;31m         \u001b[0maccessor_obj\u001b[0m \u001b[0;34m=\u001b[0m \u001b[0mself\u001b[0m\u001b[0;34m.\u001b[0m\u001b[0m_accessor\u001b[0m\u001b[0;34m(\u001b[0m\u001b[0mobj\u001b[0m\u001b[0;34m)\u001b[0m\u001b[0;34m\u001b[0m\u001b[0;34m\u001b[0m\u001b[0m\n\u001b[0m\u001b[1;32m    183\u001b[0m         \u001b[0;31m# Replace the property with the accessor object. Inspired by:\u001b[0m\u001b[0;34m\u001b[0m\u001b[0;34m\u001b[0m\u001b[0m\n\u001b[1;32m    184\u001b[0m         \u001b[0;31m# https://www.pydanny.com/cached-property.html\u001b[0m\u001b[0;34m\u001b[0m\u001b[0;34m\u001b[0m\u001b[0m\n",
            "\u001b[0;32m/usr/local/lib/python3.10/dist-packages/pandas/core/strings/accessor.py\u001b[0m in \u001b[0;36m__init__\u001b[0;34m(self, data)\u001b[0m\n\u001b[1;32m    179\u001b[0m         \u001b[0;32mfrom\u001b[0m \u001b[0mpandas\u001b[0m\u001b[0;34m.\u001b[0m\u001b[0mcore\u001b[0m\u001b[0;34m.\u001b[0m\u001b[0marrays\u001b[0m\u001b[0;34m.\u001b[0m\u001b[0mstring_\u001b[0m \u001b[0;32mimport\u001b[0m \u001b[0mStringDtype\u001b[0m\u001b[0;34m\u001b[0m\u001b[0;34m\u001b[0m\u001b[0m\n\u001b[1;32m    180\u001b[0m \u001b[0;34m\u001b[0m\u001b[0m\n\u001b[0;32m--> 181\u001b[0;31m         \u001b[0mself\u001b[0m\u001b[0;34m.\u001b[0m\u001b[0m_inferred_dtype\u001b[0m \u001b[0;34m=\u001b[0m \u001b[0mself\u001b[0m\u001b[0;34m.\u001b[0m\u001b[0m_validate\u001b[0m\u001b[0;34m(\u001b[0m\u001b[0mdata\u001b[0m\u001b[0;34m)\u001b[0m\u001b[0;34m\u001b[0m\u001b[0;34m\u001b[0m\u001b[0m\n\u001b[0m\u001b[1;32m    182\u001b[0m         \u001b[0mself\u001b[0m\u001b[0;34m.\u001b[0m\u001b[0m_is_categorical\u001b[0m \u001b[0;34m=\u001b[0m \u001b[0mis_categorical_dtype\u001b[0m\u001b[0;34m(\u001b[0m\u001b[0mdata\u001b[0m\u001b[0;34m.\u001b[0m\u001b[0mdtype\u001b[0m\u001b[0;34m)\u001b[0m\u001b[0;34m\u001b[0m\u001b[0;34m\u001b[0m\u001b[0m\n\u001b[1;32m    183\u001b[0m         \u001b[0mself\u001b[0m\u001b[0;34m.\u001b[0m\u001b[0m_is_string\u001b[0m \u001b[0;34m=\u001b[0m \u001b[0misinstance\u001b[0m\u001b[0;34m(\u001b[0m\u001b[0mdata\u001b[0m\u001b[0;34m.\u001b[0m\u001b[0mdtype\u001b[0m\u001b[0;34m,\u001b[0m \u001b[0mStringDtype\u001b[0m\u001b[0;34m)\u001b[0m\u001b[0;34m\u001b[0m\u001b[0;34m\u001b[0m\u001b[0m\n",
            "\u001b[0;32m/usr/local/lib/python3.10/dist-packages/pandas/core/strings/accessor.py\u001b[0m in \u001b[0;36m_validate\u001b[0;34m(data)\u001b[0m\n\u001b[1;32m    233\u001b[0m \u001b[0;34m\u001b[0m\u001b[0m\n\u001b[1;32m    234\u001b[0m         \u001b[0;32mif\u001b[0m \u001b[0minferred_dtype\u001b[0m \u001b[0;32mnot\u001b[0m \u001b[0;32min\u001b[0m \u001b[0mallowed_types\u001b[0m\u001b[0;34m:\u001b[0m\u001b[0;34m\u001b[0m\u001b[0;34m\u001b[0m\u001b[0m\n\u001b[0;32m--> 235\u001b[0;31m             \u001b[0;32mraise\u001b[0m \u001b[0mAttributeError\u001b[0m\u001b[0;34m(\u001b[0m\u001b[0;34m\"Can only use .str accessor with string values!\"\u001b[0m\u001b[0;34m)\u001b[0m\u001b[0;34m\u001b[0m\u001b[0;34m\u001b[0m\u001b[0m\n\u001b[0m\u001b[1;32m    236\u001b[0m         \u001b[0;32mreturn\u001b[0m \u001b[0minferred_dtype\u001b[0m\u001b[0;34m\u001b[0m\u001b[0;34m\u001b[0m\u001b[0m\n\u001b[1;32m    237\u001b[0m \u001b[0;34m\u001b[0m\u001b[0m\n",
            "\u001b[0;31mAttributeError\u001b[0m: Can only use .str accessor with string values!"
          ]
        }
      ],
      "source": [
        "#checking the equalized values\n",
        "print(\"I, E sizes\", len(qualized_ie_df[qualized_ie_df['Label'].str.contains('I')]), len(qualized_ie_df[qualized_ie_df['Label'].str.contains('E')]))\n",
        "print(\"N, S sizes\", len(qualized_ns_df[qualized_ns_df['Label'].str.contains('N')]), len(qualized_ns_df[qualized_ns_df['Label'].str.contains('S')]))\n",
        "print(\"T, F sizes\", len(qualized_tf_df[qualized_tf_df['Label'].str.contains('T')]), len(qualized_tf_df[qualized_tf_df['Label'].str.contains('F')]))\n",
        "print(\"J, P sizes\", len(qualized_jp_df[qualized_jp_df['Label'].str.contains('J')]), len(qualized_jp_df[qualized_jp_df['Label'].str.contains('P')]))"
      ]
    },
    {
      "cell_type": "markdown",
      "metadata": {
        "id": "BdkqWp9Dmw4L"
      },
      "source": [
        "#Visualization\n"
      ]
    },
    {
      "cell_type": "code",
      "execution_count": null,
      "metadata": {
        "id": "QAHHCLETmiNe"
      },
      "outputs": [],
      "source": [
        "import matplotlib.pyplot as plt\n",
        "import seaborn as sns"
      ]
    },
    {
      "cell_type": "code",
      "execution_count": null,
      "metadata": {
        "id": "LkBDyQHFmgMx"
      },
      "outputs": [],
      "source": [
        "def viualization(df, title):\n",
        "  # Count the occurrences of each unique value in the \"Label\" column\n",
        "  label_counts = df['Label'].value_counts()\n",
        "\n",
        "  # Plot the counts using seaborn with count labels on bars\n",
        "  plt.figure(figsize=(8, 6))\n",
        "  ax = sns.barplot(x=label_counts.index, y=label_counts.values, palette='viridis')\n",
        "\n",
        "  # Display count labels on the bars\n",
        "  for p in ax.patches:\n",
        "      ax.annotate(f'{p.get_height()}', (p.get_x() + p.get_width() / 2., p.get_height()),\n",
        "                  ha='center', va='center', fontsize=7, color='black', xytext=(0, 10),\n",
        "                  textcoords='offset points')\n",
        "\n",
        "  plt.title(title)\n",
        "  plt.xlabel('Label')\n",
        "  plt.ylabel('Count')\n",
        "  plt.show()"
      ]
    },
    {
      "cell_type": "code",
      "execution_count": null,
      "metadata": {
        "colab": {
          "base_uri": "https://localhost:8080/",
          "height": 564
        },
        "id": "Qspbz9shnHjY",
        "outputId": "71f01475-9e44-410a-f21e-698936c9231d"
      },
      "outputs": [
        {
          "data": {
            "image/png": "[encoded data removed]",
            "text/plain": [
              "<Figure size 800x600 with 1 Axes>"
            ]
          },
          "metadata": {},
          "output_type": "display_data"
        }
      ],
      "source": [
        "#main dataframe visualization\n",
        "viualization(df, \"Main Data\")"
      ]
    },
    {
      "cell_type": "code",
      "execution_count": null,
      "metadata": {
        "id": "SzusyMhYoxDG"
      },
      "outputs": [],
      "source": [
        "def visualizationList(df_list, titles):\n",
        "    fig, axes = plt.subplots(1, len(df_list), figsize=(16, 6))\n",
        "\n",
        "    for i, (df, title) in enumerate(zip(df_list, titles)):\n",
        "        # Count the occurrences of each unique value in the \"Label\" column\n",
        "        label_counts = df['Label'].value_counts()\n",
        "\n",
        "        # Plot the counts using seaborn with count labels on bars\n",
        "        ax = sns.barplot(x=label_counts.index, y=label_counts.values, palette='viridis', ax=axes[i])\n",
        "\n",
        "        # Display count labels on the bars\n",
        "        for p in ax.patches:\n",
        "            ax.annotate(f'{p.get_height()}', (p.get_x() + p.get_width() / 2., p.get_height()),\n",
        "                        ha='center', va='center', fontsize=12, color='black', xytext=(0, 10),\n",
        "                        textcoords='offset points')\n",
        "\n",
        "        ax.set_title(title)\n",
        "        ax.set_xlabel('Label')\n",
        "        ax.set_ylabel('Count')\n",
        "\n",
        "    plt.tight_layout()\n",
        "    plt.show()"
      ]
    },
    {
      "cell_type": "code",
      "execution_count": null,
      "metadata": {
        "colab": {
          "base_uri": "https://localhost:8080/",
          "height": 542
        },
        "id": "-wICxxtJnW1X",
        "outputId": "c984476a-768e-41e9-d152-b83ba86b0c8b"
      },
      "outputs": [
        {
          "data": {
            "image/png": "[encoded data removed]",
            "text/plain": [
              "<Figure size 1600x600 with 4 Axes>"
            ]
          },
          "metadata": {},
          "output_type": "display_data"
        }
      ],
      "source": [
        "#INTROVER EXTROVER DATA visualization\n",
        "visualizationList([ie_df,ns_df,tf_df,jp_df], [\"INTROVER EXTROVER DATA\",\"INTUITIVE SENSORS DATA\",\"THINKERS FEELERS DATA\",\"JUDGERS PRESERVERS DATA\"])"
      ]
    },
    {
      "cell_type": "markdown",
      "metadata": {
        "id": "PaaQwalbDwAS"
      },
      "source": [
        "#Encoding Labels"
      ]
    },
    {
      "cell_type": "code",
      "execution_count": null,
      "metadata": {
        "id": "E-ct0igeBSoz"
      },
      "outputs": [],
      "source": [
        "from sklearn.preprocessing import LabelEncoder"
      ]
    },
    {
      "cell_type": "code",
      "execution_count": null,
      "metadata": {
        "id": "VkszZdIaDvm0"
      },
      "outputs": [],
      "source": [
        "def encode_label(df):\n",
        "  # Create a LabelEncoder for the 'Label' column\n",
        "  label_encoder = LabelEncoder()\n",
        "\n",
        "  # Fit and transform the 'Label' column\n",
        "  df['Label'] = label_encoder.fit_transform(df['Label'])\n",
        "\n",
        "  # Display the mapping of original labels to encoded values\n",
        "  label_mapping = dict(zip(label_encoder.classes_, label_encoder.transform(label_encoder.classes_)))\n",
        "  print(\"Label Mapping:\", label_mapping)\n",
        "\n",
        "  # Display the DataFrame with the encoded labels\n",
        "  print(df[['Label']])\n",
        "  return df"
      ]
    },
    {
      "cell_type": "code",
      "execution_count": null,
      "metadata": {
        "colab": {
          "base_uri": "https://localhost:8080/"
        },
        "id": "p9TP9xMuD8je",
        "outputId": "d68c456e-d375-4694-f09b-58e052d3fb79"
      },
      "outputs": [
        {
          "output_type": "stream",
          "name": "stderr",
          "text": [
            "<ipython-input-31-025995687ce8>:6: SettingWithCopyWarning: \n",
            "A value is trying to be set on a copy of a slice from a DataFrame.\n",
            "Try using .loc[row_indexer,col_indexer] = value instead\n",
            "\n",
            "See the caveats in the documentation: https://pandas.pydata.org/pandas-docs/stable/user_guide/indexing.html#returning-a-view-versus-a-copy\n",
            "  df['Label'] = label_encoder.fit_transform(df['Label'])\n"
          ]
        },
        {
          "output_type": "stream",
          "name": "stdout",
          "text": [
            "Label Mapping: {'ENFJ': 0, 'ENFP': 1, 'ENTJ': 2, 'ENTP': 3, 'ESFJ': 4, 'ESFP': 5, 'ESTJ': 6, 'ESTP': 7, 'INFJ': 8, 'INFP': 9, 'INTJ': 10, 'INTP': 11, 'ISFJ': 12, 'ISFP': 13, 'ISTJ': 14, 'ISTP': 15}\n",
            "        Label\n",
            "0          10\n",
            "1          10\n",
            "2          10\n",
            "3          10\n",
            "4          10\n",
            "...       ...\n",
            "106062      9\n",
            "106063      9\n",
            "106064      9\n",
            "106065      9\n",
            "106066      9\n",
            "\n",
            "[122324 rows x 1 columns]\n",
            "Label Mapping: {'E': 0, 'I': 1}\n",
            "        Label\n",
            "0           1\n",
            "1           1\n",
            "2           1\n",
            "3           1\n",
            "4           1\n",
            "...       ...\n",
            "106062      1\n",
            "106063      1\n",
            "106064      1\n",
            "106065      1\n",
            "106066      1\n",
            "\n",
            "[122324 rows x 1 columns]\n",
            "Label Mapping: {'N': 0, 'S': 1}\n",
            "        Label\n",
            "0           0\n",
            "1           0\n",
            "2           0\n",
            "3           0\n",
            "4           0\n",
            "...       ...\n",
            "106062      0\n",
            "106063      0\n",
            "106064      0\n",
            "106065      0\n",
            "106066      0\n",
            "\n",
            "[122324 rows x 1 columns]\n",
            "Label Mapping: {'F': 0, 'T': 1}\n",
            "        Label\n",
            "0           1\n",
            "1           1\n",
            "2           1\n",
            "3           1\n",
            "4           1\n",
            "...       ...\n",
            "106062      0\n",
            "106063      0\n",
            "106064      0\n",
            "106065      0\n",
            "106066      0\n",
            "\n",
            "[122324 rows x 1 columns]\n",
            "Label Mapping: {'J': 0, 'P': 1}\n",
            "        Label\n",
            "0           0\n",
            "1           0\n",
            "2           0\n",
            "3           0\n",
            "4           0\n",
            "...       ...\n",
            "106062      1\n",
            "106063      1\n",
            "106064      1\n",
            "106065      1\n",
            "106066      1\n",
            "\n",
            "[122324 rows x 1 columns]\n",
            "Label Mapping: {'E': 0, 'I': 1}\n",
            "        Label\n",
            "24          1\n",
            "28          1\n",
            "82          0\n",
            "90          0\n",
            "93          0\n",
            "...       ...\n",
            "106054      1\n",
            "106056      1\n",
            "106058      1\n",
            "106061      1\n",
            "106066      1\n",
            "\n",
            "[50901 rows x 1 columns]\n",
            "Label Mapping: {'N': 0, 'S': 1}\n",
            "        Label\n",
            "96          0\n",
            "174         0\n",
            "239         1\n",
            "254         1\n",
            "354         0\n",
            "...       ...\n",
            "106024      0\n",
            "106027      0\n",
            "106030      0\n",
            "106051      0\n",
            "106061      0\n",
            "\n",
            "[19133 rows x 1 columns]\n",
            "Label Mapping: {'F': 0, 'T': 1}\n",
            "        Label\n",
            "3           1\n",
            "4           1\n",
            "15          1\n",
            "16          1\n",
            "17          1\n",
            "...       ...\n",
            "106062      0\n",
            "106063      0\n",
            "106064      0\n",
            "106065      0\n",
            "106066      0\n",
            "\n",
            "[83758 rows x 1 columns]\n",
            "Label Mapping: {'J': 0, 'P': 1}\n",
            "        Label\n",
            "0           0\n",
            "2           0\n",
            "3           0\n",
            "4           0\n",
            "5           0\n",
            "...       ...\n",
            "106062      1\n",
            "106063      1\n",
            "106064      1\n",
            "106065      1\n",
            "106066      1\n",
            "\n",
            "[97886 rows x 1 columns]\n"
          ]
        }
      ],
      "source": [
        "df = encode_label(df)\n",
        "ie_df = encode_label(ie_df)\n",
        "ns_df = encode_label(ns_df)\n",
        "tf_df = encode_label(tf_df)\n",
        "jp_df = encode_label(jp_df)\n",
        "qualized_ie_df = encode_label(qualized_ie_df)\n",
        "qualized_ns_df = encode_label(qualized_ns_df)\n",
        "qualized_tf_df = encode_label(qualized_tf_df)\n",
        "qualized_jp_df = encode_label(qualized_jp_df)"
      ]
    },
    {
      "cell_type": "markdown",
      "metadata": {
        "id": "xifPzB8x1ksn"
      },
      "source": [
        "#-----------------------------------------------------------"
      ]
    },
    {
      "cell_type": "markdown",
      "metadata": {
        "id": "bVc1KsPFPXrk"
      },
      "source": [
        "smote"
      ]
    },
    {
      "cell_type": "code",
      "execution_count": null,
      "metadata": {
        "id": "16eM77jjCgTE"
      },
      "outputs": [],
      "source": [
        "import numpy as np\n",
        "from gensim.models import KeyedVectors\n",
        "from sklearn.model_selection import train_test_split\n",
        "from sklearn.preprocessing import LabelEncoder\n",
        "from imblearn.over_sampling import SMOTE\n",
        "import tensorflow as tf\n",
        "from tensorflow.keras.preprocessing.text import Tokenizer\n",
        "from tensorflow.keras.preprocessing.sequence import pad_sequences\n",
        "from tensorflow.keras.models import Sequential\n",
        "from tensorflow.keras.layers import Dense, Dropout, BatchNormalization, Activation, LSTM, Embedding\n",
        "from sklearn.metrics import classification_report\n",
        "from transformers import BertTokenizer, TFBertModel"
      ]
    },
    {
      "cell_type": "code",
      "execution_count": null,
      "metadata": {
        "id": "3UKx9iiWCeas"
      },
      "outputs": [],
      "source": [
        "# Split the data into training and testing sets\n",
        "train_data, test_data, train_labels, test_labels = train_test_split(\n",
        "    df[\"Post\"], df[\"Label\"], test_size=0.2, random_state=42\n",
        ")"
      ]
    },
    {
      "cell_type": "code",
      "execution_count": null,
      "metadata": {
        "id": "4TakttXNCclq"
      },
      "outputs": [],
      "source": [
        "# Tokenize the text data\n",
        "max_words = 2000\n",
        "tokenizer = Tokenizer(num_words=max_words)\n",
        "tokenizer.fit_on_texts(train_data)"
      ]
    },
    {
      "cell_type": "code",
      "execution_count": null,
      "metadata": {
        "id": "Li_il0j4Ca1H"
      },
      "outputs": [],
      "source": [
        "# Convert text data to sequences\n",
        "train_sequences = tokenizer.texts_to_sequences(train_data)\n",
        "test_sequences = tokenizer.texts_to_sequences(test_data)"
      ]
    },
    {
      "cell_type": "code",
      "execution_count": null,
      "metadata": {
        "id": "QTsAJx0CCX_h"
      },
      "outputs": [],
      "source": [
        "# Pad sequences to make them of equal length\n",
        "max_len = max(len(seq) for seq in train_sequences)\n",
        "train_data_padded = pad_sequences(train_sequences, maxlen=max_len)\n",
        "test_data_padded = pad_sequences(test_sequences, maxlen=max_len)"
      ]
    },
    {
      "cell_type": "code",
      "execution_count": null,
      "metadata": {
        "id": "EXUdnC8HCXXb"
      },
      "outputs": [],
      "source": [
        "# # Apply SMOTE only to the training data\n",
        "# smote = SMOTE(sampling_strategy='auto', random_state=42, k_neighbors=5)\n",
        "# X_resampled, y_resampled = smote.fit_resample(train_sequences, train_labels)\n",
        "\n",
        "# # Concatenate original data with resampled data\n",
        "# train_data_padded = np.vstack((train_data_padded, X_resampled))\n",
        "# test_data_padded = np.concatenate((test_data_padded, y_resampled))"
      ]
    },
    {
      "cell_type": "code",
      "execution_count": null,
      "metadata": {
        "id": "h61zgNQuCw-y"
      },
      "outputs": [],
      "source": [
        "# Define the LSTM model\n",
        "embedding_dim = 16\n",
        "model = Sequential()\n",
        "model.add(Embedding(input_dim=max_words, output_dim=embedding_dim, input_length=max_len))\n",
        "model.add(LSTM(64))  # You can adjust the number of LSTM units based on your task\n",
        "model.add(Dense(16, activation='softmax'))  # Assuming 16 classes, softmax for multi-class classification"
      ]
    },
    {
      "cell_type": "code",
      "execution_count": null,
      "metadata": {
        "id": "MRHdRV-UCzZx"
      },
      "outputs": [],
      "source": [
        "# Compile the model\n",
        "model.compile(optimizer='adam', loss='sparse_categorical_crossentropy', metrics=['accuracy'])"
      ]
    },
    {
      "cell_type": "code",
      "execution_count": null,
      "metadata": {
        "id": "jeGOH3JXCNqg"
      },
      "outputs": [],
      "source": [
        "# Define the class weights based on the counts\n",
        "class_counts = {0: 2218, 1: 7557, 2: 3457, 3: 12976, 4: 326, 5: 580,\n",
        "                6: 601, 7: 2171, 8: 17456, 9: 15210, 10: 24267, 11: 27049,\n",
        "                12: 1174, 13: 1506, 14: 1701, 15: 4075}\n",
        "\n",
        "total_samples = sum(class_counts.values())\n",
        "class_weights = {label: total_samples / (len(class_counts) * count) for label, count in class_counts.items()}\n",
        "\n",
        "# Train the model\n",
        "model.fit(train_data_padded, train_labels, epochs=10, batch_size=32, validation_split=0.2, class_weight=class_weights)\n",
        "\n",
        "model.save('mbti_smote.h5')"
      ]
    },
    {
      "cell_type": "code",
      "execution_count": null,
      "metadata": {
        "id": "UWM7IvvkCSYI"
      },
      "outputs": [],
      "source": [
        "\n",
        "# Evaluate the model on the test set\n",
        "loss, accuracy = model.evaluate(test_data_padded, test_labels)\n",
        "print(f'Test Accuracy: {accuracy * 100:.2f}%')"
      ]
    },
    {
      "cell_type": "markdown",
      "metadata": {
        "id": "8X8GSHaIDAyv"
      },
      "source": [
        "#NLP MODELS"
      ]
    },
    {
      "cell_type": "code",
      "execution_count": null,
      "metadata": {
        "id": "juO2nWN0DDTo",
        "colab": {
          "base_uri": "https://localhost:8080/",
          "height": 237,
          "referenced_widgets": [
            "f86a522c3fde4e9d98809e49aea293ce",
            "a0b1aff672484ed591f743c8503fe162",
            "64e4e54ccb8449c9a051fbc54c446c0c",
            "82f70f7f72f94c3083ce57918ce3eab0",
            "f0382b61fbca4091bb8dce8a1caabf74",
            "66293ef765d74da7aa8035bb76321422",
            "ad7b0a1528e447dabe53f33b507b89e4",
            "3b0a73f582d4404388cc564c67e6a256",
            "82fee7f42ba54a7c85200f9f5cdba9e4",
            "7a4008cdc22b4f799f15cc2bfd78e10e",
            "19131e73dc1042b9959ade4c21147049",
            "16e035302bce4b6199918884bbb6af8a",
            "666fe2d3b397464db33e6571dc797c04",
            "2532b1184a5343b6b857c49615651f40",
            "19d17aeda5624459aadd8ad7c87eebdd",
            "9b82e3f76b074f978bd070fd647f1bf9",
            "3faa56cd73074e93a1609d6c60482be2",
            "ccb4c0bf3048473bbb4105764bbe82ba",
            "341e0e26788c4a40bd02277bb3de191d",
            "6bd0a71f48e941b3bc9a9ac1286600ac",
            "b8a688a3d5b6466e8bab94dfe8c0c333",
            "69ed3dede3ac40a290d0f9f3134dd3df",
            "ee6b22dff0fd499b8bb5b5a173e17294",
            "fa54e3f6b8c840678deb9a911d72f680",
            "37747c528ed641809d0891ff3e3794a4",
            "9c8b1682d9d749b983d92d717ffdd1d2",
            "e2e0287e8bbb4431aa979646316d93d7",
            "237140c6b6eb4a21b6c473ea25af085c",
            "7834e42525994b1da86f76e003c88c2c",
            "5c71516499554a3d8644a4cce4ea6885",
            "39b13e1ecf544e3aac394323a4bf72aa",
            "eb115d491f484008a9328cad76f88e47",
            "9939b54958bc4ed09e0b0c6eddb2a26e"
          ]
        },
        "outputId": "9e0a33a1-fafe-45a5-ee3b-3ee3bb54189b"
      },
      "outputs": [
        {
          "output_type": "stream",
          "name": "stderr",
          "text": [
            "/usr/local/lib/python3.10/dist-packages/huggingface_hub/utils/_token.py:72: UserWarning: \n",
            "The secret `HF_TOKEN` does not exist in your Colab secrets.\n",
            "To authenticate with the Hugging Face Hub, create a token in your settings tab (https://huggingface.co/settings/tokens), set it as secret in your Google Colab and restart your session.\n",
            "You will be able to reuse this secret in all of your notebooks.\n",
            "Please note that authentication is recommended but still optional to access public models or datasets.\n",
            "  warnings.warn(\n"
          ]
        },
        {
          "output_type": "display_data",
          "data": {
            "text/plain": [
              "tokenizer_config.json:   0%|          | 0.00/28.0 [00:00<?, ?B/s]"
            ],
            "application/vnd.jupyter.widget-view+json": {
              "version_major": 2,
              "version_minor": 0,
              "model_id": "f86a522c3fde4e9d98809e49aea293ce"
            }
          },
          "metadata": {}
        },
        {
          "output_type": "display_data",
          "data": {
            "text/plain": [
              "vocab.txt:   0%|          | 0.00/232k [00:00<?, ?B/s]"
            ],
            "application/vnd.jupyter.widget-view+json": {
              "version_major": 2,
              "version_minor": 0,
              "model_id": "16e035302bce4b6199918884bbb6af8a"
            }
          },
          "metadata": {}
        },
        {
          "output_type": "display_data",
          "data": {
            "text/plain": [
              "tokenizer.json:   0%|          | 0.00/466k [00:00<?, ?B/s]"
            ],
            "application/vnd.jupyter.widget-view+json": {
              "version_major": 2,
              "version_minor": 0,
              "model_id": "ee6b22dff0fd499b8bb5b5a173e17294"
            }
          },
          "metadata": {}
        }
      ],
      "source": [
        "# Load pre-trained BERT model and tokenizer\n",
        "tokenizer = BertTokenizer.from_pretrained('bert-base-uncased')\n",
        "bert_model = TFBertModel.from_pretrained('bert-base-uncased')"
      ]
    },
    {
      "cell_type": "code",
      "execution_count": null,
      "metadata": {
        "id": "0ReGtWCRPfNT"
      },
      "outputs": [],
      "source": [
        "# Save the model to a directory\n",
        "model_save_dir = './'\n",
        "tokenizer.save_pretrained(model_save_dir)\n",
        "bert_model.save_pretrained(model_save_dir)"
      ]
    },
    {
      "cell_type": "code",
      "execution_count": null,
      "metadata": {
        "id": "TxEgTGjrDC4P"
      },
      "outputs": [],
      "source": [
        "# Load the saved model from the directory\n",
        "model_save_dir = './'\n",
        "tokenizer = BertTokenizer.from_pretrained(model_save_dir)\n",
        "bert_model = TFBertModel.from_pretrained(model_save_dir)"
      ]
    },
    {
      "cell_type": "code",
      "execution_count": null,
      "metadata": {
        "id": "9_fri5fLE3Sr"
      },
      "outputs": [],
      "source": [
        "# Function to obtain BERT embeddings\n",
        "def bert_embedding(text):\n",
        "    inputs = tokenizer(text, return_tensors='tf', truncation=True, padding=True)\n",
        "    outputs = bert_model(inputs)\n",
        "    embeddings = outputs.last_hidden_state[:, 0, :]\n",
        "    return embeddings.numpy()"
      ]
    },
    {
      "cell_type": "code",
      "execution_count": null,
      "metadata": {
        "id": "z6nu0zd1DUPd"
      },
      "outputs": [],
      "source": [
        "# # Obtain BERT embeddings\n",
        "# X = np.concatenate(df['Post'].apply(bert_embedding).to_numpy(), axis=0)"
      ]
    },
    {
      "cell_type": "code",
      "execution_count": null,
      "metadata": {
        "id": "RWw9XCWUDXlI"
      },
      "outputs": [],
      "source": [
        "# y = tf.keras.utils.to_categorical(df['Label'], num_classes=16)"
      ]
    },
    {
      "cell_type": "code",
      "execution_count": null,
      "metadata": {
        "id": "Jy412k_1DZXB"
      },
      "outputs": [],
      "source": [
        "# # LSTM model for multiclass classification\n",
        "# model = Sequential()\n",
        "# model.add(LSTM(64, input_shape=(X.shape[1],)))\n",
        "# model.add(Dense(16, activation='softmax'))  # Multiclass classification with softmax\n",
        "# model.compile(optimizer='adam', loss='categorical_crossentropy', metrics=['accuracy'])\n"
      ]
    },
    {
      "cell_type": "code",
      "execution_count": null,
      "metadata": {
        "id": "1JFJB_l9DeR9"
      },
      "outputs": [],
      "source": [
        "## Train the model\n",
        "# model.fit(X, y, epochs=10, batch_size=32)"
      ]
    },
    {
      "cell_type": "markdown",
      "metadata": {
        "id": "_k9f-hgiDixm"
      },
      "source": [
        "#CBOW MODEL"
      ]
    },
    {
      "cell_type": "code",
      "source": [
        "# Obtain BERT embeddings\n",
        "qualized_ns_df_vectors\n",
        "qualized_ns_df_vectors = np.concatenate(qualized_ns_df['Post'].apply(bert_embedding).to_numpy(), axis=0)"
      ],
      "metadata": {
        "id": "4Hffwi5g3OMg"
      },
      "execution_count": null,
      "outputs": []
    },
    {
      "cell_type": "code",
      "execution_count": null,
      "metadata": {
        "id": "qZ8pk3aNDmp5"
      },
      "outputs": [],
      "source": [
        "word2vec_model_path = \"GoogleNews-vectors-negative300.bin\"\n",
        "word2vec_model = KeyedVectors.load_word2vec_format(word2vec_model_path, binary=True)"
      ]
    },
    {
      "cell_type": "code",
      "execution_count": null,
      "metadata": {
        "id": "hfZsDkZpRVJc"
      },
      "outputs": [],
      "source": [
        "def get_word2vec_embeddings(text):\n",
        "    embeddings = [word2vec_model[word] if word in word2vec_model else np.zeros(300) for word in text.split()]\n",
        "    return np.mean(embeddings, axis=0) if embeddings else np.zeros(300)"
      ]
    },
    {
      "cell_type": "code",
      "execution_count": null,
      "metadata": {
        "id": "R8b_AAX1Drev"
      },
      "outputs": [],
      "source": [
        "# X_all_word2vec = [get_word2vec_embeddings(text) for text in df['Post']]"
      ]
    },
    {
      "cell_type": "code",
      "execution_count": null,
      "metadata": {
        "id": "sizpVlnxDtXf"
      },
      "outputs": [],
      "source": [
        "# word2vec_model = None\n",
        "# ie_df = None\n",
        "# ns_df = None\n",
        "# tf_df = None\n",
        "# jp_df = None"
      ]
    },
    {
      "cell_type": "code",
      "execution_count": null,
      "metadata": {
        "id": "EyCKdbVKDwPG"
      },
      "outputs": [],
      "source": [
        "##PREVIOUS ARCH\n",
        "# nn_model = Sequential()\n",
        "# nn_model.add(LSTM(512, activation='relu', input_shape=(300, 1)))\n",
        "# nn_model.add(Dropout(0.5))\n",
        "\n",
        "# nn_model.add(Dense(256, activation='relu'))\n",
        "# nn_model.add(Dense(128, activation='relu'))\n",
        "\n",
        "# nn_model.add(Dense(16, activation='softmax'))"
      ]
    },
    {
      "cell_type": "code",
      "execution_count": null,
      "metadata": {
        "id": "FtwyrwAxDx8v"
      },
      "outputs": [],
      "source": [
        "# nn_model.compile(optimizer='adam', loss='categorical_crossentropy', metrics=['accuracy'])\n",
        "# nn_model.fit(X_combined, y_combined, epochs=10, batch_size=128, validation_split=0.2)\n",
        "# nn_model.save('mbti_smote.h5')"
      ]
    },
    {
      "cell_type": "code",
      "execution_count": null,
      "metadata": {
        "id": "zHIOKW2CD1i5"
      },
      "outputs": [],
      "source": [
        "# # Evaluate the model on the test set\n",
        "# y_pred = nn_model.predict(X_test_word2vec)\n",
        "# y_pred = (y_pred > 0.5).astype(int)\n",
        "\n",
        "# # Decode predictions and labels\n",
        "# decoded_preds = label_encoder.inverse_transform(y_pred.flatten())\n",
        "# decoded_labels = label_encoder.inverse_transform(test_labels)\n",
        "\n",
        "# # Print classification report\n",
        "# print(classification_report(decoded_labels, decoded_preds))"
      ]
    },
    {
      "cell_type": "code",
      "execution_count": null,
      "metadata": {
        "colab": {
          "base_uri": "https://localhost:8080/"
        },
        "id": "T0QzoXxKEt66",
        "outputId": "be8a1248-8b88-4d42-b89e-fd6d359ad68f"
      },
      "outputs": [
        {
          "data": {
            "text/plain": [
              "array([[ 0.04039957, -0.00022527,  0.01973862, ..., -0.03858663,\n",
              "         0.01449781, -0.01293328],\n",
              "       [ 0.0346173 , -0.00696668, -0.00386859, ..., -0.04192355,\n",
              "         0.035454  , -0.0318125 ],\n",
              "       [ 0.04994078,  0.01359411,  0.00060217, ..., -0.04809318,\n",
              "         0.03971819, -0.02037629],\n",
              "       ...,\n",
              "       [ 0.03290887,  0.0219488 ,  0.00739247, ..., -0.0441672 ,\n",
              "         0.007058  ,  0.00928761],\n",
              "       [ 0.03191809,  0.01097343,  0.00743373, ..., -0.05217724,\n",
              "         0.02473369, -0.00708355],\n",
              "       [ 0.03133339,  0.03460039,  0.00960905, ..., -0.05532065,\n",
              "         0.01198792, -0.00890098]])"
            ]
          },
          "execution_count": 45,
          "metadata": {},
          "output_type": "execute_result"
        }
      ],
      "source": [
        "# X_train"
      ]
    },
    {
      "cell_type": "code",
      "execution_count": null,
      "metadata": {
        "colab": {
          "base_uri": "https://localhost:8080/"
        },
        "id": "AgKm42VqEwPL",
        "outputId": "eb7590b9-8da7-4880-f950-46f1cb906daf"
      },
      "outputs": [
        {
          "data": {
            "text/plain": [
              "53074    S\n",
              "51431    S\n",
              "52745    S\n",
              "76791    S\n",
              "77109    S\n",
              "        ..\n",
              "59415    N\n",
              "65736    N\n",
              "48308    S\n",
              "14455    N\n",
              "78587    S\n",
              "Name: Label, Length: 15315, dtype: object"
            ]
          },
          "execution_count": 46,
          "metadata": {},
          "output_type": "execute_result"
        }
      ],
      "source": [
        "# y_train"
      ]
    },
    {
      "cell_type": "code",
      "execution_count": null,
      "metadata": {
        "id": "R9eW8SJN7hDx"
      },
      "outputs": [],
      "source": [
        "# label_encoder = LabelEncoder()"
      ]
    },
    {
      "cell_type": "code",
      "execution_count": null,
      "metadata": {
        "id": "vnW1OYik8VEA"
      },
      "outputs": [],
      "source": [
        "# y_train = label_encoder.fit_transform(y_train)"
      ]
    },
    {
      "cell_type": "code",
      "execution_count": null,
      "metadata": {
        "colab": {
          "base_uri": "https://localhost:8080/"
        },
        "id": "VSrXwnTNGZXY",
        "outputId": "5050b969-7d25-43e5-cf83-b35aff53fab1"
      },
      "outputs": [
        {
          "data": {
            "text/plain": [
              "array([10,  0,  8, ...,  8,  9, 10])"
            ]
          },
          "execution_count": 64,
          "metadata": {},
          "output_type": "execute_result"
        }
      ],
      "source": [
        "# y_train"
      ]
    },
    {
      "cell_type": "code",
      "execution_count": null,
      "metadata": {
        "id": "ddwO5n3fQDFi"
      },
      "outputs": [],
      "source": [
        "# nn_model = Sequential()\n",
        "# nn_model.add(Dense(512, activation='relu'))\n",
        "# nn_model.add(Dropout(0.5))  # Adding dropout for regularization\n",
        "# nn_model.add(Dense(256, activation='relu'))\n",
        "# nn_model.add(Dropout(0.5))\n",
        "# nn_model.add(Dense(128, activation='relu'))\n",
        "# nn_model.add(Dropout(0.5))\n",
        "# nn_model.add(Dense(1, activation='sigmoid'))"
      ]
    },
    {
      "cell_type": "code",
      "execution_count": null,
      "metadata": {
        "id": "tnsTjNuAxQnH"
      },
      "outputs": [],
      "source": [
        "# optimizer = tf.keras.optimizers.Adam(learning_rate=0.0001)\n",
        "# nn_model.compile(optimizer=optimizer, loss='binary_crossentropy', metrics=['accuracy'])\n",
        "# nn_model.fit(X_train, y_train, epochs=2000, batch_size=32, validation_split=0.2)\n",
        "# nn_model.save('mbti_smote.h5')"
      ]
    },
    {
      "cell_type": "code",
      "execution_count": null,
      "metadata": {
        "id": "q54Z61TkQEKV"
      },
      "outputs": [],
      "source": [
        "# # Evaluate the model on the test set\n",
        "# y_pred = nn_model.predict(X_test_word2vec)\n",
        "# y_pred = (y_pred > 0.5).astype(int)\n",
        "\n",
        "# # Decode predictions and labels\n",
        "# decoded_preds = label_encoder.inverse_transform(y_pred.flatten())\n",
        "# decoded_labels = label_encoder.inverse_transform(test_labels)\n",
        "\n",
        "# # Print classification report\n",
        "# print(classification_report(decoded_labels, decoded_preds))"
      ]
    },
    {
      "cell_type": "markdown",
      "metadata": {
        "id": "n9e_8Qw4QWmB"
      },
      "source": [
        "mbti_class_weight"
      ]
    },
    {
      "cell_type": "code",
      "execution_count": null,
      "metadata": {
        "colab": {
          "base_uri": "https://localhost:8080/",
          "height": 245
        },
        "id": "OZDVnaGlQ__n",
        "outputId": "603a6fdb-44e8-4f77-9f21-893ae00bf495"
      },
      "outputs": [
        {
          "ename": "NameError",
          "evalue": "name 'X_train_word2vec' is not defined",
          "output_type": "error",
          "traceback": [
            "\u001b[0;31m---------------------------------------------------------------------------\u001b[0m",
            "\u001b[0;31mNameError\u001b[0m                                 Traceback (most recent call last)",
            "\u001b[0;32m<ipython-input-58-cd2d674e2422>\u001b[0m in \u001b[0;36m<cell line: 12>\u001b[0;34m()\u001b[0m\n\u001b[1;32m     10\u001b[0m \u001b[0;34m\u001b[0m\u001b[0m\n\u001b[1;32m     11\u001b[0m \u001b[0mnn_class_model\u001b[0m\u001b[0;34m.\u001b[0m\u001b[0mcompile\u001b[0m\u001b[0;34m(\u001b[0m\u001b[0moptimizer\u001b[0m\u001b[0;34m=\u001b[0m\u001b[0;34m'adam'\u001b[0m\u001b[0;34m,\u001b[0m \u001b[0mloss\u001b[0m\u001b[0;34m=\u001b[0m\u001b[0;34m'binary_crossentropy'\u001b[0m\u001b[0;34m,\u001b[0m \u001b[0mmetrics\u001b[0m\u001b[0;34m=\u001b[0m\u001b[0;34m[\u001b[0m\u001b[0;34m'accuracy'\u001b[0m\u001b[0;34m]\u001b[0m\u001b[0;34m)\u001b[0m\u001b[0;34m\u001b[0m\u001b[0;34m\u001b[0m\u001b[0m\n\u001b[0;32m---> 12\u001b[0;31m \u001b[0mnn_class_model\u001b[0m\u001b[0;34m.\u001b[0m\u001b[0mfit\u001b[0m\u001b[0;34m(\u001b[0m\u001b[0mX_train_word2vec\u001b[0m\u001b[0;34m,\u001b[0m \u001b[0mtrain_labels\u001b[0m\u001b[0;34m,\u001b[0m \u001b[0mepochs\u001b[0m\u001b[0;34m=\u001b[0m\u001b[0;36m5\u001b[0m\u001b[0;34m,\u001b[0m \u001b[0mbatch_size\u001b[0m\u001b[0;34m=\u001b[0m\u001b[0;36m32\u001b[0m\u001b[0;34m,\u001b[0m \u001b[0mvalidation_split\u001b[0m\u001b[0;34m=\u001b[0m\u001b[0;36m0.2\u001b[0m\u001b[0;34m,\u001b[0m \u001b[0mclass_weight\u001b[0m\u001b[0;34m=\u001b[0m\u001b[0mclass_weights\u001b[0m\u001b[0;34m)\u001b[0m\u001b[0;34m\u001b[0m\u001b[0;34m\u001b[0m\u001b[0m\n\u001b[0m\u001b[1;32m     13\u001b[0m \u001b[0;34m\u001b[0m\u001b[0m\n\u001b[1;32m     14\u001b[0m \u001b[0;31m# Save the trained model with class weighting\u001b[0m\u001b[0;34m\u001b[0m\u001b[0;34m\u001b[0m\u001b[0m\n",
            "\u001b[0;31mNameError\u001b[0m: name 'X_train_word2vec' is not defined"
          ]
        }
      ],
      "source": [
        "# class_weights = {0: 1.0, 1: 5.0}  # Adjust the weights based on your specific class distribution\n",
        "\n",
        "# # Define and train Neural Network model with class weighting\n",
        "# nn_class_model = Sequential()\n",
        "# nn_class_model.add(Dense(256, activation='relu', input_dim=300))  # Assuming Word2Vec embeddings are 300-dimensional\n",
        "# nn_class_model.add(Dropout(0.5))\n",
        "# nn_class_model.add(Dense(128, activation='relu'))\n",
        "# nn_class_model.add(Dropout(0.5))\n",
        "# nn_class_model.add(Dense(1, activation='sigmoid'))\n",
        "\n",
        "# nn_class_model.compile(optimizer='adam', loss='binary_crossentropy', metrics=['accuracy'])\n",
        "# nn_class_model.fit(X_train_word2vec, train_labels, epochs=5, batch_size=32, validation_split=0.2, class_weight=class_weights)\n",
        "\n",
        "# # Save the trained model with class weighting\n",
        "# nn_class_model.save('mbti_class_weight.h5')"
      ]
    },
    {
      "cell_type": "code",
      "execution_count": null,
      "metadata": {
        "id": "87LMezKkRGBO"
      },
      "outputs": [],
      "source": [
        "# y_pred = nn_class_model.predict(X_test_word2vec)\n",
        "# y_pred = (y_pred > 0.5).astype(int)\n",
        "\n",
        "# # Decode predictions and labels\n",
        "# decoded_preds = label_encoder.inverse_transform(y_pred.flatten())\n",
        "# decoded_labels = label_encoder.inverse_transform(test_labels)\n",
        "\n",
        "# # Print classification report\n",
        "# print(classification_report(decoded_labels, decoded_preds))"
      ]
    },
    {
      "cell_type": "code",
      "execution_count": null,
      "metadata": {
        "id": "tGpfr4I1DA0W"
      },
      "outputs": [],
      "source": []
    },
    {
      "cell_type": "code",
      "execution_count": null,
      "metadata": {
        "id": "PLsNAyhWDBF1"
      },
      "outputs": [],
      "source": []
    },
    {
      "cell_type": "code",
      "execution_count": null,
      "metadata": {
        "id": "8wpscKh_DBUl"
      },
      "outputs": [],
      "source": []
    },
    {
      "cell_type": "markdown",
      "metadata": {
        "id": "zKh5Fu9IDBm_"
      },
      "source": [
        "##Classical Approuch"
      ]
    },
    {
      "cell_type": "markdown",
      "metadata": {
        "id": "tSLB_IuVEBPQ"
      },
      "source": [
        "###Logistic Regression"
      ]
    },
    {
      "cell_type": "code",
      "execution_count": null,
      "metadata": {
        "colab": {
          "base_uri": "https://localhost:8080/"
        },
        "id": "gk3EBHgSRkkg",
        "outputId": "38dc5adc-45f4-4754-ff0b-67b4fdc4c0ee"
      },
      "outputs": [
        {
          "name": "stdout",
          "output_type": "stream",
          "text": [
            "Collecting catboost\n",
            "  Downloading catboost-1.2.2-cp310-cp310-manylinux2014_x86_64.whl (98.7 MB)\n",
            "\u001b[2K     \u001b[90m━━━━━━━━━━━━━━━━━━━━━━━━━━━━━━━━━━━━━━━━\u001b[0m \u001b[32m98.7/98.7 MB\u001b[0m \u001b[31m5.2 MB/s\u001b[0m eta \u001b[36m0:00:00\u001b[0m\n",
            "\u001b[?25hRequirement already satisfied: graphviz in /usr/local/lib/python3.10/dist-packages (from catboost) (0.20.1)\n",
            "Requirement already satisfied: matplotlib in /usr/local/lib/python3.10/dist-packages (from catboost) (3.7.1)\n",
            "Requirement already satisfied: numpy>=1.16.0 in /usr/local/lib/python3.10/dist-packages (from catboost) (1.23.5)\n",
            "Requirement already satisfied: pandas>=0.24 in /usr/local/lib/python3.10/dist-packages (from catboost) (1.5.3)\n",
            "Requirement already satisfied: scipy in /usr/local/lib/python3.10/dist-packages (from catboost) (1.11.4)\n",
            "Requirement already satisfied: plotly in /usr/local/lib/python3.10/dist-packages (from catboost) (5.15.0)\n",
            "Requirement already satisfied: six in /usr/local/lib/python3.10/dist-packages (from catboost) (1.16.0)\n",
            "Requirement already satisfied: python-dateutil>=2.8.1 in /usr/local/lib/python3.10/dist-packages (from pandas>=0.24->catboost) (2.8.2)\n",
            "Requirement already satisfied: pytz>=2020.1 in /usr/local/lib/python3.10/dist-packages (from pandas>=0.24->catboost) (2023.3.post1)\n",
            "Requirement already satisfied: contourpy>=1.0.1 in /usr/local/lib/python3.10/dist-packages (from matplotlib->catboost) (1.2.0)\n",
            "Requirement already satisfied: cycler>=0.10 in /usr/local/lib/python3.10/dist-packages (from matplotlib->catboost) (0.12.1)\n",
            "Requirement already satisfied: fonttools>=4.22.0 in /usr/local/lib/python3.10/dist-packages (from matplotlib->catboost) (4.47.0)\n",
            "Requirement already satisfied: kiwisolver>=1.0.1 in /usr/local/lib/python3.10/dist-packages (from matplotlib->catboost) (1.4.5)\n",
            "Requirement already satisfied: packaging>=20.0 in /usr/local/lib/python3.10/dist-packages (from matplotlib->catboost) (23.2)\n",
            "Requirement already satisfied: pillow>=6.2.0 in /usr/local/lib/python3.10/dist-packages (from matplotlib->catboost) (9.4.0)\n",
            "Requirement already satisfied: pyparsing>=2.3.1 in /usr/local/lib/python3.10/dist-packages (from matplotlib->catboost) (3.1.1)\n",
            "Requirement already satisfied: tenacity>=6.2.0 in /usr/local/lib/python3.10/dist-packages (from plotly->catboost) (8.2.3)\n",
            "Installing collected packages: catboost\n",
            "Successfully installed catboost-1.2.2\n"
          ]
        }
      ],
      "source": [
        "pip install catboost"
      ]
    },
    {
      "cell_type": "code",
      "execution_count": null,
      "metadata": {
        "id": "BLdcug_OEQU9"
      },
      "outputs": [],
      "source": [
        "from sklearn.linear_model import LogisticRegression, SGDClassifier\n",
        "from sklearn.svm import SVC\n",
        "from sklearn.ensemble import RandomForestClassifier\n",
        "from xgboost import XGBClassifier\n",
        "from catboost import CatBoostClassifier\n",
        "from sklearn.model_selection import train_test_split\n",
        "from sklearn.metrics import accuracy_score"
      ]
    },
    {
      "cell_type": "code",
      "execution_count": null,
      "metadata": {
        "id": "qwJ0lxeEER-a"
      },
      "outputs": [],
      "source": [
        "qualized_ie_df_vectors_CBOW = [get_word2vec_embeddings(text) for text in qualized_ie_df['Post']]\n",
        "qualized_ns_df_vectors_CBOW = [get_word2vec_embeddings(text) for text in qualized_ns_df['Post']]\n",
        "qualized_tf_df_vectors_CBOW = [get_word2vec_embeddings(text) for text in qualized_tf_df['Post']]\n",
        "qualized_jp_df_vectors_CBOW = [get_word2vec_embeddings(text) for text in qualized_jp_df['Post']]"
      ]
    },
    {
      "cell_type": "code",
      "execution_count": null,
      "metadata": {
        "id": "O8sgtYvETvTp"
      },
      "outputs": [],
      "source": [
        "word2vec_model = None\n",
        "ie_df = None\n",
        "ns_df = None\n",
        "tf_df = None\n",
        "jp_df = None"
      ]
    },
    {
      "cell_type": "code",
      "execution_count": null,
      "metadata": {
        "id": "vOyKsz49EgAW"
      },
      "outputs": [],
      "source": [
        "# define bert vectors"
      ]
    },
    {
      "cell_type": "code",
      "execution_count": null,
      "metadata": {
        "id": "DqYdMcEuEjFR"
      },
      "outputs": [],
      "source": [
        "#main function\n",
        "def preformClassicalPredictions(df, X):\n",
        "    # Apply the embedding function to each text in the DataFrame\n",
        "    y = df['Label']\n",
        "\n",
        "    # Remove None values from X and corresponding labels from y\n",
        "    X = [x for x in X if x is not None]\n",
        "    y = y.iloc[:len(X)]\n",
        "\n",
        "    # Convert X to a numpy array\n",
        "    X = np.array(X)\n",
        "    # Split the data into training and testing sets\n",
        "    X_train, X_test, y_train, y_test = train_test_split(X, y, test_size=0.2, random_state=42)\n",
        "\n",
        "\n",
        "    # Train Logistic Regression classifier\n",
        "    logistic_regression = LogisticRegression(random_state=42)\n",
        "    logistic_regression.fit(X_train, y_train)\n",
        "    y_pred_lr = logistic_regression.predict(X_test)\n",
        "    accuracy_lr = accuracy_score(y_test, y_pred_lr)\n",
        "    print(f\"Logistic Regression Accuracy: {accuracy_lr:.5%}\")\n",
        "\n",
        "    # Train Linear Support Vector Classification (SVC) classifier\n",
        "    svc = SVC(random_state=42)\n",
        "    svc.fit(X_train, y_train)\n",
        "    y_pred_svc = svc.predict(X_test)\n",
        "    accuracy_svc = accuracy_score(y_test, y_pred_svc)\n",
        "    print(f\"SVC Accuracy: {accuracy_svc:.5%}\")\n",
        "\n",
        "    # Train Stochastic Gradient Descent (SGD) classifier\n",
        "    sgd = SGDClassifier(random_state=42)\n",
        "    sgd.fit(X_train, y_train)\n",
        "    y_pred_sgd = sgd.predict(X_test)\n",
        "    accuracy_sgd = accuracy_score(y_test, y_pred_sgd)\n",
        "    print(f\"SGD Classifier Accuracy: {accuracy_sgd:.5%}\")\n",
        "\n",
        "    # Train Random Forest classifier\n",
        "    random_forest = RandomForestClassifier(random_state=42)\n",
        "    random_forest.fit(X_train, y_train)\n",
        "    y_pred_rf = random_forest.predict(X_test)\n",
        "    accuracy_rf = accuracy_score(y_test, y_pred_rf)\n",
        "    print(f\"Random Forest Accuracy: {accuracy_rf:.5%}\")\n",
        "\n",
        "    # Train Extreme Gradient Boosting (XGBoost) classifier\n",
        "    xgboost = XGBClassifier(random_state=42)\n",
        "    xgboost.fit(X_train, y_train)\n",
        "    y_pred_xgb = xgboost.predict(X_test)\n",
        "    accuracy_xgb = accuracy_score(y_test, y_pred_xgb)\n",
        "    print(f\"XGBoost Accuracy: {accuracy_xgb:.5%}\")\n",
        "\n",
        "    # Train CatBoost classifier\n",
        "    catboost = CatBoostClassifier(random_state=42, verbose=0)\n",
        "    catboost.fit(X_train, y_train)\n",
        "    y_pred_cat = catboost.predict(X_test)\n",
        "    accuracy_cat = accuracy_score(y_test, y_pred_cat)\n",
        "    print(f\"CatBoost Accuracy: {accuracy_cat:.5%}\")"
      ]
    },
    {
      "cell_type": "code",
      "execution_count": null,
      "metadata": {
        "colab": {
          "base_uri": "https://localhost:8080/"
        },
        "id": "5fMV19yTBXSk",
        "outputId": "a3f1fe5b-f358-456b-9c8e-c4ae6f00947b"
      },
      "outputs": [
        {
          "name": "stderr",
          "output_type": "stream",
          "text": [
            "/usr/local/lib/python3.10/dist-packages/sklearn/linear_model/_logistic.py:458: ConvergenceWarning: lbfgs failed to converge (status=1):\n",
            "STOP: TOTAL NO. of ITERATIONS REACHED LIMIT.\n",
            "\n",
            "Increase the number of iterations (max_iter) or scale the data as shown in:\n",
            "    https://scikit-learn.org/stable/modules/preprocessing.html\n",
            "Please also refer to the documentation for alternative solver options:\n",
            "    https://scikit-learn.org/stable/modules/linear_model.html#logistic-regression\n",
            "  n_iter_i = _check_optimize_result(\n"
          ]
        },
        {
          "name": "stdout",
          "output_type": "stream",
          "text": [
            "Logistic Regression Accuracy: 72.00236%\n",
            "SVC Accuracy: 73.42630%\n",
            "SGD Classifier Accuracy: 69.10537%\n",
            "Random Forest Accuracy: 68.19208%\n",
            "XGBoost Accuracy: 71.04979%\n",
            "CatBoost Accuracy: 72.97457%\n"
          ]
        }
      ],
      "source": [
        "preformClassicalPredictions(qualized_ie_df, qualized_ie_df_vectors_CBOW)"
      ]
    },
    {
      "cell_type": "code",
      "execution_count": null,
      "metadata": {
        "colab": {
          "base_uri": "https://localhost:8080/"
        },
        "id": "EL5hy7N-BZXJ",
        "outputId": "645bb315-e23b-4ca1-f223-f459d8c7bf9f"
      },
      "outputs": [
        {
          "name": "stdout",
          "output_type": "stream",
          "text": [
            "Logistic Regression Accuracy: 75.70045%\n",
            "SVC Accuracy: 78.34512%\n",
            "SGD Classifier Accuracy: 76.40744%\n",
            "Random Forest Accuracy: 73.47473%\n",
            "XGBoost Accuracy: 76.72165%\n",
            "CatBoost Accuracy: 78.60697%\n"
          ]
        }
      ],
      "source": [
        "preformClassicalPredictions(qualized_ns_df, qualized_ns_df_vectors_CBOW)"
      ]
    },
    {
      "cell_type": "code",
      "execution_count": null,
      "metadata": {
        "id": "yZL467xEpw5_"
      },
      "outputs": [],
      "source": []
    },
    {
      "cell_type": "code",
      "execution_count": null,
      "metadata": {
        "colab": {
          "base_uri": "https://localhost:8080/"
        },
        "id": "WTvciPbADKhU",
        "outputId": "72eaaf47-1848-4272-8fe4-b1f3034bc338"
      },
      "outputs": [
        {
          "name": "stdout",
          "output_type": "stream",
          "text": [
            "Logistic Regression Accuracy: 83.15940%\n",
            "SVC Accuracy: 84.24474%\n",
            "SGD Classifier Accuracy: 81.99058%\n",
            "Random Forest Accuracy: 80.07633%\n",
            "XGBoost Accuracy: 81.92498%\n",
            "CatBoost Accuracy: 83.70803%\n"
          ]
        }
      ],
      "source": [
        "preformClassicalPredictions(qualized_tf_df, qualized_tf_df_vectors_CBOW)"
      ]
    },
    {
      "cell_type": "code",
      "execution_count": null,
      "metadata": {
        "colab": {
          "background_save": true,
          "base_uri": "https://localhost:8080/"
        },
        "id": "2lPzikeCBUSf",
        "outputId": "ec3d2b8b-c46e-49fa-f7a3-e0fdc69b7895"
      },
      "outputs": [
        {
          "name": "stderr",
          "output_type": "stream",
          "text": [
            "/usr/local/lib/python3.10/dist-packages/sklearn/linear_model/_logistic.py:458: ConvergenceWarning: lbfgs failed to converge (status=1):\n",
            "STOP: TOTAL NO. of ITERATIONS REACHED LIMIT.\n",
            "\n",
            "Increase the number of iterations (max_iter) or scale the data as shown in:\n",
            "    https://scikit-learn.org/stable/modules/preprocessing.html\n",
            "Please also refer to the documentation for alternative solver options:\n",
            "    https://scikit-learn.org/stable/modules/linear_model.html#logistic-regression\n",
            "  n_iter_i = _check_optimize_result(\n"
          ]
        },
        {
          "name": "stdout",
          "output_type": "stream",
          "text": [
            "Logistic Regression Accuracy: 67.57958%\n",
            "SVC Accuracy: 69.20444%\n",
            "SGD Classifier Accuracy: 66.00582%\n",
            "Random Forest Accuracy: 65.83721%\n",
            "XGBoost Accuracy: 66.96132%\n",
            "CatBoost Accuracy: 68.82122%\n"
          ]
        }
      ],
      "source": [
        "preformClassicalPredictions(qualized_jp_df, qualized_jp_df_vectors_CBOW)"
      ]
    }
  ],
  "metadata": {
    "accelerator": "TPU",
    "colab": {
      "provenance": []
    },
    "kernelspec": {
      "display_name": "Python 3",
      "name": "python3"
    },
    "language_info": {
      "name": "python"
    },
    "widgets": {
      "application/vnd.jupyter.widget-state+json": {
        "f86a522c3fde4e9d98809e49aea293ce": {
          "model_module": "@jupyter-widgets/controls",
          "model_name": "HBoxModel",
          "model_module_version": "1.5.0",
          "state": {
            "_dom_classes": [],
            "_model_module": "@jupyter-widgets/controls",
            "_model_module_version": "1.5.0",
            "_model_name": "HBoxModel",
            "_view_count": null,
            "_view_module": "@jupyter-widgets/controls",
            "_view_module_version": "1.5.0",
            "_view_name": "HBoxView",
            "box_style": "",
            "children": [
              "IPY_MODEL_a0b1aff672484ed591f743c8503fe162",
              "IPY_MODEL_64e4e54ccb8449c9a051fbc54c446c0c",
              "IPY_MODEL_82f70f7f72f94c3083ce57918ce3eab0"
            ],
            "layout": "IPY_MODEL_f0382b61fbca4091bb8dce8a1caabf74"
          }
        },
        "a0b1aff672484ed591f743c8503fe162": {
          "model_module": "@jupyter-widgets/controls",
          "model_name": "HTMLModel",
          "model_module_version": "1.5.0",
          "state": {
            "_dom_classes": [],
            "_model_module": "@jupyter-widgets/controls",
            "_model_module_version": "1.5.0",
            "_model_name": "HTMLModel",
            "_view_count": null,
            "_view_module": "@jupyter-widgets/controls",
            "_view_module_version": "1.5.0",
            "_view_name": "HTMLView",
            "description": "",
            "description_tooltip": null,
            "layout": "IPY_MODEL_66293ef765d74da7aa8035bb76321422",
            "placeholder": "​",
            "style": "IPY_MODEL_ad7b0a1528e447dabe53f33b507b89e4",
            "value": "tokenizer_config.json: 100%"
          }
        },
        "64e4e54ccb8449c9a051fbc54c446c0c": {
          "model_module": "@jupyter-widgets/controls",
          "model_name": "FloatProgressModel",
          "model_module_version": "1.5.0",
          "state": {
            "_dom_classes": [],
            "_model_module": "@jupyter-widgets/controls",
            "_model_module_version": "1.5.0",
            "_model_name": "FloatProgressModel",
            "_view_count": null,
            "_view_module": "@jupyter-widgets/controls",
            "_view_module_version": "1.5.0",
            "_view_name": "ProgressView",
            "bar_style": "success",
            "description": "",
            "description_tooltip": null,
            "layout": "IPY_MODEL_3b0a73f582d4404388cc564c67e6a256",
            "max": 28,
            "min": 0,
            "orientation": "horizontal",
            "style": "IPY_MODEL_82fee7f42ba54a7c85200f9f5cdba9e4",
            "value": 28
          }
        },
        "82f70f7f72f94c3083ce57918ce3eab0": {
          "model_module": "@jupyter-widgets/controls",
          "model_name": "HTMLModel",
          "model_module_version": "1.5.0",
          "state": {
            "_dom_classes": [],
            "_model_module": "@jupyter-widgets/controls",
            "_model_module_version": "1.5.0",
            "_model_name": "HTMLModel",
            "_view_count": null,
            "_view_module": "@jupyter-widgets/controls",
            "_view_module_version": "1.5.0",
            "_view_name": "HTMLView",
            "description": "",
            "description_tooltip": null,
            "layout": "IPY_MODEL_7a4008cdc22b4f799f15cc2bfd78e10e",
            "placeholder": "​",
            "style": "IPY_MODEL_19131e73dc1042b9959ade4c21147049",
            "value": " 28.0/28.0 [00:00&lt;00:00, 549B/s]"
          }
        },
        "f0382b61fbca4091bb8dce8a1caabf74": {
          "model_module": "@jupyter-widgets/base",
          "model_name": "LayoutModel",
          "model_module_version": "1.2.0",
          "state": {
            "_model_module": "@jupyter-widgets/base",
            "_model_module_version": "1.2.0",
            "_model_name": "LayoutModel",
            "_view_count": null,
            "_view_module": "@jupyter-widgets/base",
            "_view_module_version": "1.2.0",
            "_view_name": "LayoutView",
            "align_content": null,
            "align_items": null,
            "align_self": null,
            "border": null,
            "bottom": null,
            "display": null,
            "flex": null,
            "flex_flow": null,
            "grid_area": null,
            "grid_auto_columns": null,
            "grid_auto_flow": null,
            "grid_auto_rows": null,
            "grid_column": null,
            "grid_gap": null,
            "grid_row": null,
            "grid_template_areas": null,
            "grid_template_columns": null,
            "grid_template_rows": null,
            "height": null,
            "justify_content": null,
            "justify_items": null,
            "left": null,
            "margin": null,
            "max_height": null,
            "max_width": null,
            "min_height": null,
            "min_width": null,
            "object_fit": null,
            "object_position": null,
            "order": null,
            "overflow": null,
            "overflow_x": null,
            "overflow_y": null,
            "padding": null,
            "right": null,
            "top": null,
            "visibility": null,
            "width": null
          }
        },
        "66293ef765d74da7aa8035bb76321422": {
          "model_module": "@jupyter-widgets/base",
          "model_name": "LayoutModel",
          "model_module_version": "1.2.0",
          "state": {
            "_model_module": "@jupyter-widgets/base",
            "_model_module_version": "1.2.0",
            "_model_name": "LayoutModel",
            "_view_count": null,
            "_view_module": "@jupyter-widgets/base",
            "_view_module_version": "1.2.0",
            "_view_name": "LayoutView",
            "align_content": null,
            "align_items": null,
            "align_self": null,
            "border": null,
            "bottom": null,
            "display": null,
            "flex": null,
            "flex_flow": null,
            "grid_area": null,
            "grid_auto_columns": null,
            "grid_auto_flow": null,
            "grid_auto_rows": null,
            "grid_column": null,
            "grid_gap": null,
            "grid_row": null,
            "grid_template_areas": null,
            "grid_template_columns": null,
            "grid_template_rows": null,
            "height": null,
            "justify_content": null,
            "justify_items": null,
            "left": null,
            "margin": null,
            "max_height": null,
            "max_width": null,
            "min_height": null,
            "min_width": null,
            "object_fit": null,
            "object_position": null,
            "order": null,
            "overflow": null,
            "overflow_x": null,
            "overflow_y": null,
            "padding": null,
            "right": null,
            "top": null,
            "visibility": null,
            "width": null
          }
        },
        "ad7b0a1528e447dabe53f33b507b89e4": {
          "model_module": "@jupyter-widgets/controls",
          "model_name": "DescriptionStyleModel",
          "model_module_version": "1.5.0",
          "state": {
            "_model_module": "@jupyter-widgets/controls",
            "_model_module_version": "1.5.0",
            "_model_name": "DescriptionStyleModel",
            "_view_count": null,
            "_view_module": "@jupyter-widgets/base",
            "_view_module_version": "1.2.0",
            "_view_name": "StyleView",
            "description_width": ""
          }
        },
        "3b0a73f582d4404388cc564c67e6a256": {
          "model_module": "@jupyter-widgets/base",
          "model_name": "LayoutModel",
          "model_module_version": "1.2.0",
          "state": {
            "_model_module": "@jupyter-widgets/base",
            "_model_module_version": "1.2.0",
            "_model_name": "LayoutModel",
            "_view_count": null,
            "_view_module": "@jupyter-widgets/base",
            "_view_module_version": "1.2.0",
            "_view_name": "LayoutView",
            "align_content": null,
            "align_items": null,
            "align_self": null,
            "border": null,
            "bottom": null,
            "display": null,
            "flex": null,
            "flex_flow": null,
            "grid_area": null,
            "grid_auto_columns": null,
            "grid_auto_flow": null,
            "grid_auto_rows": null,
            "grid_column": null,
            "grid_gap": null,
            "grid_row": null,
            "grid_template_areas": null,
            "grid_template_columns": null,
            "grid_template_rows": null,
            "height": null,
            "justify_content": null,
            "justify_items": null,
            "left": null,
            "margin": null,
            "max_height": null,
            "max_width": null,
            "min_height": null,
            "min_width": null,
            "object_fit": null,
            "object_position": null,
            "order": null,
            "overflow": null,
            "overflow_x": null,
            "overflow_y": null,
            "padding": null,
            "right": null,
            "top": null,
            "visibility": null,
            "width": null
          }
        },
        "82fee7f42ba54a7c85200f9f5cdba9e4": {
          "model_module": "@jupyter-widgets/controls",
          "model_name": "ProgressStyleModel",
          "model_module_version": "1.5.0",
          "state": {
            "_model_module": "@jupyter-widgets/controls",
            "_model_module_version": "1.5.0",
            "_model_name": "ProgressStyleModel",
            "_view_count": null,
            "_view_module": "@jupyter-widgets/base",
            "_view_module_version": "1.2.0",
            "_view_name": "StyleView",
            "bar_color": null,
            "description_width": ""
          }
        },
        "7a4008cdc22b4f799f15cc2bfd78e10e": {
          "model_module": "@jupyter-widgets/base",
          "model_name": "LayoutModel",
          "model_module_version": "1.2.0",
          "state": {
            "_model_module": "@jupyter-widgets/base",
            "_model_module_version": "1.2.0",
            "_model_name": "LayoutModel",
            "_view_count": null,
            "_view_module": "@jupyter-widgets/base",
            "_view_module_version": "1.2.0",
            "_view_name": "LayoutView",
            "align_content": null,
            "align_items": null,
            "align_self": null,
            "border": null,
            "bottom": null,
            "display": null,
            "flex": null,
            "flex_flow": null,
            "grid_area": null,
            "grid_auto_columns": null,
            "grid_auto_flow": null,
            "grid_auto_rows": null,
            "grid_column": null,
            "grid_gap": null,
            "grid_row": null,
            "grid_template_areas": null,
            "grid_template_columns": null,
            "grid_template_rows": null,
            "height": null,
            "justify_content": null,
            "justify_items": null,
            "left": null,
            "margin": null,
            "max_height": null,
            "max_width": null,
            "min_height": null,
            "min_width": null,
            "object_fit": null,
            "object_position": null,
            "order": null,
            "overflow": null,
            "overflow_x": null,
            "overflow_y": null,
            "padding": null,
            "right": null,
            "top": null,
            "visibility": null,
            "width": null
          }
        },
        "19131e73dc1042b9959ade4c21147049": {
          "model_module": "@jupyter-widgets/controls",
          "model_name": "DescriptionStyleModel",
          "model_module_version": "1.5.0",
          "state": {
            "_model_module": "@jupyter-widgets/controls",
            "_model_module_version": "1.5.0",
            "_model_name": "DescriptionStyleModel",
            "_view_count": null,
            "_view_module": "@jupyter-widgets/base",
            "_view_module_version": "1.2.0",
            "_view_name": "StyleView",
            "description_width": ""
          }
        },
        "16e035302bce4b6199918884bbb6af8a": {
          "model_module": "@jupyter-widgets/controls",
          "model_name": "HBoxModel",
          "model_module_version": "1.5.0",
          "state": {
            "_dom_classes": [],
            "_model_module": "@jupyter-widgets/controls",
            "_model_module_version": "1.5.0",
            "_model_name": "HBoxModel",
            "_view_count": null,
            "_view_module": "@jupyter-widgets/controls",
            "_view_module_version": "1.5.0",
            "_view_name": "HBoxView",
            "box_style": "",
            "children": [
              "IPY_MODEL_666fe2d3b397464db33e6571dc797c04",
              "IPY_MODEL_2532b1184a5343b6b857c49615651f40",
              "IPY_MODEL_19d17aeda5624459aadd8ad7c87eebdd"
            ],
            "layout": "IPY_MODEL_9b82e3f76b074f978bd070fd647f1bf9"
          }
        },
        "666fe2d3b397464db33e6571dc797c04": {
          "model_module": "@jupyter-widgets/controls",
          "model_name": "HTMLModel",
          "model_module_version": "1.5.0",
          "state": {
            "_dom_classes": [],
            "_model_module": "@jupyter-widgets/controls",
            "_model_module_version": "1.5.0",
            "_model_name": "HTMLModel",
            "_view_count": null,
            "_view_module": "@jupyter-widgets/controls",
            "_view_module_version": "1.5.0",
            "_view_name": "HTMLView",
            "description": "",
            "description_tooltip": null,
            "layout": "IPY_MODEL_3faa56cd73074e93a1609d6c60482be2",
            "placeholder": "​",
            "style": "IPY_MODEL_ccb4c0bf3048473bbb4105764bbe82ba",
            "value": "vocab.txt: 100%"
          }
        },
        "2532b1184a5343b6b857c49615651f40": {
          "model_module": "@jupyter-widgets/controls",
          "model_name": "FloatProgressModel",
          "model_module_version": "1.5.0",
          "state": {
            "_dom_classes": [],
            "_model_module": "@jupyter-widgets/controls",
            "_model_module_version": "1.5.0",
            "_model_name": "FloatProgressModel",
            "_view_count": null,
            "_view_module": "@jupyter-widgets/controls",
            "_view_module_version": "1.5.0",
            "_view_name": "ProgressView",
            "bar_style": "success",
            "description": "",
            "description_tooltip": null,
            "layout": "IPY_MODEL_341e0e26788c4a40bd02277bb3de191d",
            "max": 231508,
            "min": 0,
            "orientation": "horizontal",
            "style": "IPY_MODEL_6bd0a71f48e941b3bc9a9ac1286600ac",
            "value": 231508
          }
        },
        "19d17aeda5624459aadd8ad7c87eebdd": {
          "model_module": "@jupyter-widgets/controls",
          "model_name": "HTMLModel",
          "model_module_version": "1.5.0",
          "state": {
            "_dom_classes": [],
            "_model_module": "@jupyter-widgets/controls",
            "_model_module_version": "1.5.0",
            "_model_name": "HTMLModel",
            "_view_count": null,
            "_view_module": "@jupyter-widgets/controls",
            "_view_module_version": "1.5.0",
            "_view_name": "HTMLView",
            "description": "",
            "description_tooltip": null,
            "layout": "IPY_MODEL_b8a688a3d5b6466e8bab94dfe8c0c333",
            "placeholder": "​",
            "style": "IPY_MODEL_69ed3dede3ac40a290d0f9f3134dd3df",
            "value": " 232k/232k [00:00&lt;00:00, 3.72MB/s]"
          }
        },
        "9b82e3f76b074f978bd070fd647f1bf9": {
          "model_module": "@jupyter-widgets/base",
          "model_name": "LayoutModel",
          "model_module_version": "1.2.0",
          "state": {
            "_model_module": "@jupyter-widgets/base",
            "_model_module_version": "1.2.0",
            "_model_name": "LayoutModel",
            "_view_count": null,
            "_view_module": "@jupyter-widgets/base",
            "_view_module_version": "1.2.0",
            "_view_name": "LayoutView",
            "align_content": null,
            "align_items": null,
            "align_self": null,
            "border": null,
            "bottom": null,
            "display": null,
            "flex": null,
            "flex_flow": null,
            "grid_area": null,
            "grid_auto_columns": null,
            "grid_auto_flow": null,
            "grid_auto_rows": null,
            "grid_column": null,
            "grid_gap": null,
            "grid_row": null,
            "grid_template_areas": null,
            "grid_template_columns": null,
            "grid_template_rows": null,
            "height": null,
            "justify_content": null,
            "justify_items": null,
            "left": null,
            "margin": null,
            "max_height": null,
            "max_width": null,
            "min_height": null,
            "min_width": null,
            "object_fit": null,
            "object_position": null,
            "order": null,
            "overflow": null,
            "overflow_x": null,
            "overflow_y": null,
            "padding": null,
            "right": null,
            "top": null,
            "visibility": null,
            "width": null
          }
        },
        "3faa56cd73074e93a1609d6c60482be2": {
          "model_module": "@jupyter-widgets/base",
          "model_name": "LayoutModel",
          "model_module_version": "1.2.0",
          "state": {
            "_model_module": "@jupyter-widgets/base",
            "_model_module_version": "1.2.0",
            "_model_name": "LayoutModel",
            "_view_count": null,
            "_view_module": "@jupyter-widgets/base",
            "_view_module_version": "1.2.0",
            "_view_name": "LayoutView",
            "align_content": null,
            "align_items": null,
            "align_self": null,
            "border": null,
            "bottom": null,
            "display": null,
            "flex": null,
            "flex_flow": null,
            "grid_area": null,
            "grid_auto_columns": null,
            "grid_auto_flow": null,
            "grid_auto_rows": null,
            "grid_column": null,
            "grid_gap": null,
            "grid_row": null,
            "grid_template_areas": null,
            "grid_template_columns": null,
            "grid_template_rows": null,
            "height": null,
            "justify_content": null,
            "justify_items": null,
            "left": null,
            "margin": null,
            "max_height": null,
            "max_width": null,
            "min_height": null,
            "min_width": null,
            "object_fit": null,
            "object_position": null,
            "order": null,
            "overflow": null,
            "overflow_x": null,
            "overflow_y": null,
            "padding": null,
            "right": null,
            "top": null,
            "visibility": null,
            "width": null
          }
        },
        "ccb4c0bf3048473bbb4105764bbe82ba": {
          "model_module": "@jupyter-widgets/controls",
          "model_name": "DescriptionStyleModel",
          "model_module_version": "1.5.0",
          "state": {
            "_model_module": "@jupyter-widgets/controls",
            "_model_module_version": "1.5.0",
            "_model_name": "DescriptionStyleModel",
            "_view_count": null,
            "_view_module": "@jupyter-widgets/base",
            "_view_module_version": "1.2.0",
            "_view_name": "StyleView",
            "description_width": ""
          }
        },
        "341e0e26788c4a40bd02277bb3de191d": {
          "model_module": "@jupyter-widgets/base",
          "model_name": "LayoutModel",
          "model_module_version": "1.2.0",
          "state": {
            "_model_module": "@jupyter-widgets/base",
            "_model_module_version": "1.2.0",
            "_model_name": "LayoutModel",
            "_view_count": null,
            "_view_module": "@jupyter-widgets/base",
            "_view_module_version": "1.2.0",
            "_view_name": "LayoutView",
            "align_content": null,
            "align_items": null,
            "align_self": null,
            "border": null,
            "bottom": null,
            "display": null,
            "flex": null,
            "flex_flow": null,
            "grid_area": null,
            "grid_auto_columns": null,
            "grid_auto_flow": null,
            "grid_auto_rows": null,
            "grid_column": null,
            "grid_gap": null,
            "grid_row": null,
            "grid_template_areas": null,
            "grid_template_columns": null,
            "grid_template_rows": null,
            "height": null,
            "justify_content": null,
            "justify_items": null,
            "left": null,
            "margin": null,
            "max_height": null,
            "max_width": null,
            "min_height": null,
            "min_width": null,
            "object_fit": null,
            "object_position": null,
            "order": null,
            "overflow": null,
            "overflow_x": null,
            "overflow_y": null,
            "padding": null,
            "right": null,
            "top": null,
            "visibility": null,
            "width": null
          }
        },
        "6bd0a71f48e941b3bc9a9ac1286600ac": {
          "model_module": "@jupyter-widgets/controls",
          "model_name": "ProgressStyleModel",
          "model_module_version": "1.5.0",
          "state": {
            "_model_module": "@jupyter-widgets/controls",
            "_model_module_version": "1.5.0",
            "_model_name": "ProgressStyleModel",
            "_view_count": null,
            "_view_module": "@jupyter-widgets/base",
            "_view_module_version": "1.2.0",
            "_view_name": "StyleView",
            "bar_color": null,
            "description_width": ""
          }
        },
        "b8a688a3d5b6466e8bab94dfe8c0c333": {
          "model_module": "@jupyter-widgets/base",
          "model_name": "LayoutModel",
          "model_module_version": "1.2.0",
          "state": {
            "_model_module": "@jupyter-widgets/base",
            "_model_module_version": "1.2.0",
            "_model_name": "LayoutModel",
            "_view_count": null,
            "_view_module": "@jupyter-widgets/base",
            "_view_module_version": "1.2.0",
            "_view_name": "LayoutView",
            "align_content": null,
            "align_items": null,
            "align_self": null,
            "border": null,
            "bottom": null,
            "display": null,
            "flex": null,
            "flex_flow": null,
            "grid_area": null,
            "grid_auto_columns": null,
            "grid_auto_flow": null,
            "grid_auto_rows": null,
            "grid_column": null,
            "grid_gap": null,
            "grid_row": null,
            "grid_template_areas": null,
            "grid_template_columns": null,
            "grid_template_rows": null,
            "height": null,
            "justify_content": null,
            "justify_items": null,
            "left": null,
            "margin": null,
            "max_height": null,
            "max_width": null,
            "min_height": null,
            "min_width": null,
            "object_fit": null,
            "object_position": null,
            "order": null,
            "overflow": null,
            "overflow_x": null,
            "overflow_y": null,
            "padding": null,
            "right": null,
            "top": null,
            "visibility": null,
            "width": null
          }
        },
        "69ed3dede3ac40a290d0f9f3134dd3df": {
          "model_module": "@jupyter-widgets/controls",
          "model_name": "DescriptionStyleModel",
          "model_module_version": "1.5.0",
          "state": {
            "_model_module": "@jupyter-widgets/controls",
            "_model_module_version": "1.5.0",
            "_model_name": "DescriptionStyleModel",
            "_view_count": null,
            "_view_module": "@jupyter-widgets/base",
            "_view_module_version": "1.2.0",
            "_view_name": "StyleView",
            "description_width": ""
          }
        },
        "ee6b22dff0fd499b8bb5b5a173e17294": {
          "model_module": "@jupyter-widgets/controls",
          "model_name": "HBoxModel",
          "model_module_version": "1.5.0",
          "state": {
            "_dom_classes": [],
            "_model_module": "@jupyter-widgets/controls",
            "_model_module_version": "1.5.0",
            "_model_name": "HBoxModel",
            "_view_count": null,
            "_view_module": "@jupyter-widgets/controls",
            "_view_module_version": "1.5.0",
            "_view_name": "HBoxView",
            "box_style": "",
            "children": [
              "IPY_MODEL_fa54e3f6b8c840678deb9a911d72f680",
              "IPY_MODEL_37747c528ed641809d0891ff3e3794a4",
              "IPY_MODEL_9c8b1682d9d749b983d92d717ffdd1d2"
            ],
            "layout": "IPY_MODEL_e2e0287e8bbb4431aa979646316d93d7"
          }
        },
        "fa54e3f6b8c840678deb9a911d72f680": {
          "model_module": "@jupyter-widgets/controls",
          "model_name": "HTMLModel",
          "model_module_version": "1.5.0",
          "state": {
            "_dom_classes": [],
            "_model_module": "@jupyter-widgets/controls",
            "_model_module_version": "1.5.0",
            "_model_name": "HTMLModel",
            "_view_count": null,
            "_view_module": "@jupyter-widgets/controls",
            "_view_module_version": "1.5.0",
            "_view_name": "HTMLView",
            "description": "",
            "description_tooltip": null,
            "layout": "IPY_MODEL_237140c6b6eb4a21b6c473ea25af085c",
            "placeholder": "​",
            "style": "IPY_MODEL_7834e42525994b1da86f76e003c88c2c",
            "value": "tokenizer.json: 100%"
          }
        },
        "37747c528ed641809d0891ff3e3794a4": {
          "model_module": "@jupyter-widgets/controls",
          "model_name": "FloatProgressModel",
          "model_module_version": "1.5.0",
          "state": {
            "_dom_classes": [],
            "_model_module": "@jupyter-widgets/controls",
            "_model_module_version": "1.5.0",
            "_model_name": "FloatProgressModel",
            "_view_count": null,
            "_view_module": "@jupyter-widgets/controls",
            "_view_module_version": "1.5.0",
            "_view_name": "ProgressView",
            "bar_style": "success",
            "description": "",
            "description_tooltip": null,
            "layout": "IPY_MODEL_5c71516499554a3d8644a4cce4ea6885",
            "max": 466062,
            "min": 0,
            "orientation": "horizontal",
            "style": "IPY_MODEL_39b13e1ecf544e3aac394323a4bf72aa",
            "value": 466062
          }
        },
        "9c8b1682d9d749b983d92d717ffdd1d2": {
          "model_module": "@jupyter-widgets/controls",
          "model_name": "HTMLModel",
          "model_module_version": "1.5.0",
          "state": {
            "_dom_classes": [],
            "_model_module": "@jupyter-widgets/controls",
            "_model_module_version": "1.5.0",
            "_model_name": "HTMLModel",
            "_view_count": null,
            "_view_module": "@jupyter-widgets/controls",
            "_view_module_version": "1.5.0",
            "_view_name": "HTMLView",
            "description": "",
            "description_tooltip": null,
            "layout": "IPY_MODEL_eb115d491f484008a9328cad76f88e47",
            "placeholder": "​",
            "style": "IPY_MODEL_9939b54958bc4ed09e0b0c6eddb2a26e",
            "value": " 466k/466k [00:00&lt;00:00, 7.89MB/s]"
          }
        },
        "e2e0287e8bbb4431aa979646316d93d7": {
          "model_module": "@jupyter-widgets/base",
          "model_name": "LayoutModel",
          "model_module_version": "1.2.0",
          "state": {
            "_model_module": "@jupyter-widgets/base",
            "_model_module_version": "1.2.0",
            "_model_name": "LayoutModel",
            "_view_count": null,
            "_view_module": "@jupyter-widgets/base",
            "_view_module_version": "1.2.0",
            "_view_name": "LayoutView",
            "align_content": null,
            "align_items": null,
            "align_self": null,
            "border": null,
            "bottom": null,
            "display": null,
            "flex": null,
            "flex_flow": null,
            "grid_area": null,
            "grid_auto_columns": null,
            "grid_auto_flow": null,
            "grid_auto_rows": null,
            "grid_column": null,
            "grid_gap": null,
            "grid_row": null,
            "grid_template_areas": null,
            "grid_template_columns": null,
            "grid_template_rows": null,
            "height": null,
            "justify_content": null,
            "justify_items": null,
            "left": null,
            "margin": null,
            "max_height": null,
            "max_width": null,
            "min_height": null,
            "min_width": null,
            "object_fit": null,
            "object_position": null,
            "order": null,
            "overflow": null,
            "overflow_x": null,
            "overflow_y": null,
            "padding": null,
            "right": null,
            "top": null,
            "visibility": null,
            "width": null
          }
        },
        "237140c6b6eb4a21b6c473ea25af085c": {
          "model_module": "@jupyter-widgets/base",
          "model_name": "LayoutModel",
          "model_module_version": "1.2.0",
          "state": {
            "_model_module": "@jupyter-widgets/base",
            "_model_module_version": "1.2.0",
            "_model_name": "LayoutModel",
            "_view_count": null,
            "_view_module": "@jupyter-widgets/base",
            "_view_module_version": "1.2.0",
            "_view_name": "LayoutView",
            "align_content": null,
            "align_items": null,
            "align_self": null,
            "border": null,
            "bottom": null,
            "display": null,
            "flex": null,
            "flex_flow": null,
            "grid_area": null,
            "grid_auto_columns": null,
            "grid_auto_flow": null,
            "grid_auto_rows": null,
            "grid_column": null,
            "grid_gap": null,
            "grid_row": null,
            "grid_template_areas": null,
            "grid_template_columns": null,
            "grid_template_rows": null,
            "height": null,
            "justify_content": null,
            "justify_items": null,
            "left": null,
            "margin": null,
            "max_height": null,
            "max_width": null,
            "min_height": null,
            "min_width": null,
            "object_fit": null,
            "object_position": null,
            "order": null,
            "overflow": null,
            "overflow_x": null,
            "overflow_y": null,
            "padding": null,
            "right": null,
            "top": null,
            "visibility": null,
            "width": null
          }
        },
        "7834e42525994b1da86f76e003c88c2c": {
          "model_module": "@jupyter-widgets/controls",
          "model_name": "DescriptionStyleModel",
          "model_module_version": "1.5.0",
          "state": {
            "_model_module": "@jupyter-widgets/controls",
            "_model_module_version": "1.5.0",
            "_model_name": "DescriptionStyleModel",
            "_view_count": null,
            "_view_module": "@jupyter-widgets/base",
            "_view_module_version": "1.2.0",
            "_view_name": "StyleView",
            "description_width": ""
          }
        },
        "5c71516499554a3d8644a4cce4ea6885": {
          "model_module": "@jupyter-widgets/base",
          "model_name": "LayoutModel",
          "model_module_version": "1.2.0",
          "state": {
            "_model_module": "@jupyter-widgets/base",
            "_model_module_version": "1.2.0",
            "_model_name": "LayoutModel",
            "_view_count": null,
            "_view_module": "@jupyter-widgets/base",
            "_view_module_version": "1.2.0",
            "_view_name": "LayoutView",
            "align_content": null,
            "align_items": null,
            "align_self": null,
            "border": null,
            "bottom": null,
            "display": null,
            "flex": null,
            "flex_flow": null,
            "grid_area": null,
            "grid_auto_columns": null,
            "grid_auto_flow": null,
            "grid_auto_rows": null,
            "grid_column": null,
            "grid_gap": null,
            "grid_row": null,
            "grid_template_areas": null,
            "grid_template_columns": null,
            "grid_template_rows": null,
            "height": null,
            "justify_content": null,
            "justify_items": null,
            "left": null,
            "margin": null,
            "max_height": null,
            "max_width": null,
            "min_height": null,
            "min_width": null,
            "object_fit": null,
            "object_position": null,
            "order": null,
            "overflow": null,
            "overflow_x": null,
            "overflow_y": null,
            "padding": null,
            "right": null,
            "top": null,
            "visibility": null,
            "width": null
          }
        },
        "39b13e1ecf544e3aac394323a4bf72aa": {
          "model_module": "@jupyter-widgets/controls",
          "model_name": "ProgressStyleModel",
          "model_module_version": "1.5.0",
          "state": {
            "_model_module": "@jupyter-widgets/controls",
            "_model_module_version": "1.5.0",
            "_model_name": "ProgressStyleModel",
            "_view_count": null,
            "_view_module": "@jupyter-widgets/base",
            "_view_module_version": "1.2.0",
            "_view_name": "StyleView",
            "bar_color": null,
            "description_width": ""
          }
        },
        "eb115d491f484008a9328cad76f88e47": {
          "model_module": "@jupyter-widgets/base",
          "model_name": "LayoutModel",
          "model_module_version": "1.2.0",
          "state": {
            "_model_module": "@jupyter-widgets/base",
            "_model_module_version": "1.2.0",
            "_model_name": "LayoutModel",
            "_view_count": null,
            "_view_module": "@jupyter-widgets/base",
            "_view_module_version": "1.2.0",
            "_view_name": "LayoutView",
            "align_content": null,
            "align_items": null,
            "align_self": null,
            "border": null,
            "bottom": null,
            "display": null,
            "flex": null,
            "flex_flow": null,
            "grid_area": null,
            "grid_auto_columns": null,
            "grid_auto_flow": null,
            "grid_auto_rows": null,
            "grid_column": null,
            "grid_gap": null,
            "grid_row": null,
            "grid_template_areas": null,
            "grid_template_columns": null,
            "grid_template_rows": null,
            "height": null,
            "justify_content": null,
            "justify_items": null,
            "left": null,
            "margin": null,
            "max_height": null,
            "max_width": null,
            "min_height": null,
            "min_width": null,
            "object_fit": null,
            "object_position": null,
            "order": null,
            "overflow": null,
            "overflow_x": null,
            "overflow_y": null,
            "padding": null,
            "right": null,
            "top": null,
            "visibility": null,
            "width": null
          }
        },
        "9939b54958bc4ed09e0b0c6eddb2a26e": {
          "model_module": "@jupyter-widgets/controls",
          "model_name": "DescriptionStyleModel",
          "model_module_version": "1.5.0",
          "state": {
            "_model_module": "@jupyter-widgets/controls",
            "_model_module_version": "1.5.0",
            "_model_name": "DescriptionStyleModel",
            "_view_count": null,
            "_view_module": "@jupyter-widgets/base",
            "_view_module_version": "1.2.0",
            "_view_name": "StyleView",
            "description_width": ""
          }
        }
      }
    }
  },
  "nbformat": 4,
  "nbformat_minor": 0
}